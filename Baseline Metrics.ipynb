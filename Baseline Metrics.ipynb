{
 "cells": [
  {
   "cell_type": "code",
   "execution_count": 1,
   "metadata": {},
   "outputs": [
    {
     "name": "stdout",
     "output_type": "stream",
     "text": [
      "Starting Spark application\n"
     ]
    },
    {
     "data": {
      "text/html": [
       "<table>\n",
       "<tr><th>ID</th><th>YARN Application ID</th><th>Kind</th><th>State</th><th>Spark UI</th><th>Driver log</th><th>Current session?</th></tr><tr><td>62</td><td>None</td><td>pyspark</td><td>idle</td><td></td><td></td><td>✔</td></tr></table>"
      ],
      "text/plain": [
       "<IPython.core.display.HTML object>"
      ]
     },
     "metadata": {},
     "output_type": "display_data"
    },
    {
     "name": "stdout",
     "output_type": "stream",
     "text": [
      "SparkSession available as 'spark'.\n",
      "2\n",
      "2\n",
      "16g"
     ]
    }
   ],
   "source": [
    "# process level parameters\n",
    "import sys\n",
    "\n",
    "env = 'uat'\n",
    "if env=='prod':\n",
    "    mesos_ip = 'mesos://10.35.12.205:5050'\n",
    "else:\n",
    "    mesos_ip = 'mesos://10.33.195.18:5050'\n",
    "    \n",
    "#2*8+(2*8*10%) = 16+1.6 =17.6 --Memory Calculation\n",
    "no_of_cpu = 2\n",
    "max_cores = 2\n",
    "executr_mem = '16g'\n",
    "app_name = 'Mahantesh: Baseline_Metrics'\n",
    "\n",
    "print (no_of_cpu)\n",
    "print (max_cores)\n",
    "print (executr_mem)\n",
    "\n",
    "\n",
    "from pyspark.mllib.stat import Statistics\n",
    "from pyspark.sql.functions import asc,lit\n",
    "#warnings.filterwarnings('error')\n",
    "import pyspark\n",
    "from datetime import datetime,timedelta\n",
    "from pyspark.sql import SQLContext\n",
    "from pyspark.sql.window import Window\n",
    "from pyspark import SparkContext, SparkConf\n",
    "conf = pyspark.SparkConf()\n",
    "#import numpy\n",
    "import calendar\n",
    "import time\n",
    "#import pandas as pd\n",
    "#import simplejson as json\n",
    "#import pandas as pd\n",
    "import numpy as np\n",
    "import datetime\n",
    "from pyspark.sql.functions import *\n",
    "from pyspark.sql.types import DateType, StringType, DecimalType\n",
    "from pyspark.sql.functions import lit\n",
    "import simplejson as json\n",
    "import json, pprint, requests\n",
    "import re # to use regular expressions\n",
    "es_nodes = '10.35.12.212'\n",
    "es_port = '9200'\n",
    "es_user = 'elastic'\n",
    "es_pwd = 'bEiilauM3es'\n",
    "#mesos_ip = 'mesos://10.35.12.5:5050'\n",
    "#mesos_ip = 'mesos://10.35.12.205:5050'\n",
    "mesos_ip = mesos_ip\n",
    "spark.stop()\n",
    "conf.setMaster(mesos_ip)\n",
    "\n",
    "conf.set('spark.executor.cores',no_of_cpu)\n",
    "conf.set('spark.cores.max',max_cores)\n",
    "#conf.set('spark.memory.fraction','.2')\n",
    "conf.set('spark.executor.memory',executr_mem)\n",
    "conf.set('spark.es.scroll.size','10000')\n",
    "conf.set('spark.network.timeout','600s')\n",
    "conf.set('spark.sql.crossJoin.enabled', 'true')\n",
    "\n",
    "conf.set('spark.executor.heartbeatInterval','60s')\n",
    "conf.set(\"spark.driver.cores\",\"4\")\n",
    "conf.set(\"spark.driver.extraJavaOptions\",\"-Xmx4g -Xms4g\")\n",
    "\n",
    "#conf.set(\"spark.shuffle.blockTransferService\", \"nio\"); \n",
    "conf.set(\"spark.files.overwrite\",\"true\");\n",
    "conf.set(\"spark.kryoserializer.buffer\", \"70\");\n",
    "conf.set(\"spark.driver.extraJavaOptions\", \"-XX:+UseG1GC\");\n",
    "conf.set(\"spark.executor.extraJavaOptions\", \"-XX:+UseG1GC\");\n",
    "conf.set(\"spark.serializer\", \"org.apache.spark.serializer.KryoSerializer\"); \n",
    "conf.set(\"spark.broadcast.compress\", \"true\");\n",
    "conf.set(\"spark.shuffle.compress\", \"true\"); \n",
    "conf.set(\"spark.shuffle.spill.compress\", \"true\");\n",
    "conf.set(\"spark.app.name\",app_name)\n",
    "#conf.set(\"spark.io.compression.codec\",\"org.apache.spark.io.LZ4CompressionCodec\");\n",
    "#conf.set(\"spark.sql.inMemoryColumnarStorage.compressed\", \"true\"); \n",
    "from pyspark.sql.functions import broadcast\n",
    "\n",
    "conf.set('spark.driver.memory','32g')\n",
    "\n",
    "conf.set('spark.sql.shuffle.partitions','300')\n",
    "#conf.set('spark.sql.crossJoin.enabled', 'true')\n",
    "# conf.set('es.nodes',es_nodes)\n",
    "# conf.set('es.port',es_port)\n",
    "conf.set('es.nodes.wan.only','true')\n",
    "conf.set(\"spark.sql.autoBroadcastJoinThreshold\",-1)\n",
    "\n",
    "#conf.set('spark.es.net.http.auth.user','Spark')\n",
    "#conf.set('spark.es.net.http.auth.pass','Jarkpet1Sap3')\n",
    "#conf.set('spark.num.executors','5')\n",
    "\n",
    "# conf.set('spark.es.net.http.auth.user', es_user)\n",
    "# conf.set('spark.es.net.http.auth.pass', es_pwd)\n",
    "\n",
    "conf.set('spark.es.mapping.date.rich','false')\n",
    "spark = pyspark.SparkContext(conf=conf)\n",
    "sqlContext = SQLContext(spark)\n",
    "\n",
    "# Load Data into PySpark DataFrames\n",
    "# Prodcom Data Frame\n",
    "import json, pprint, requests\n",
    "import pyspark.sql.functions as sf\n",
    "\n",
    "##Define Required Functions\n",
    "\n",
    "\n",
    "def documentcount(index_name):\n",
    "    headers = {'Content-Type': 'application/json'}\n",
    "    query = {'query':{'match_all':{}}}\n",
    "    URL = 'http://'+es_user+':'+es_pwd+'@'+es_nodes_tmp+':'+es_port+'/'+index_name+'/_count'\n",
    "    r = requests.get(URL, headers=headers)\n",
    "    document_count =r.json().get('count')\n",
    "    if document_count == 0:\n",
    "        document_count = 1\n",
    "    return document_count\n",
    "\n",
    "def createindex(index_name,number_of_shards,number_of_replicas):\n",
    "####   Create a Index     #######\n",
    "    headers = {'Content-Type': 'application/json'}\n",
    "    index_config= {\"settings\": { \"index.number_of_shards\": number_of_shards , \"index.number_of_replicas\":number_of_replicas}}\n",
    "    URL = 'http://'+es_user+':'+es_pwd+'@'+es_nodes+':'+es_port+'/'+index_name\n",
    "    r = requests.put(URL, data=json.dumps(index_config), headers=headers)\n",
    "    return r\n",
    "\n",
    "\n",
    "def createmapping(index_name,doc_type,mappings):\n",
    "### Create a doc-type Mappings    \n",
    "    URL = 'http://'+es_user+':'+es_pwd+'@'+es_nodes+':'+es_port+'/'+index_name+'/_mappings/'+doc_type+'/'\n",
    "    headers = {'Content-Type': 'application/json'}\n",
    "    r = requests.put(URL, data=json.dumps(mappings), headers=headers)\n",
    "    return r\n",
    "\n",
    "def deleteindex(index_name):\n",
    "###delete index if already exists########################################################\n",
    "    headers = {'Content-Type': 'application/json'}\n",
    "    query = {\"query\":{\"match_all\":{}}}\n",
    "    URL = 'http://'+es_user+':'+es_pwd+'@'+es_nodes+':'+es_port+'/'+index_name\n",
    "    r = requests.delete(URL, data=json.dumps(query), headers=headers)\n",
    "    return r\n",
    "\n",
    "def last_day_of_month(any_day):\n",
    "    next_month = any_day.replace(day=28) + datetime.timedelta(days=4)\n",
    "    return next_month - datetime.timedelta(days=next_month.day)\n",
    "\n",
    "def last_day_of_previous_month(any_day):\n",
    "    previous_month = any_day.replace(day = 1)\n",
    "    return previous_month - datetime.timedelta(days=1)\n",
    "\n",
    "def first_day_of_last_month(any_day):\n",
    "    previous_month = any_day.replace(day = 1)\n",
    "    previous_month = previous_month - datetime.timedelta(days=1)\n",
    "    return previous_month.replace(day = 1)\n",
    "\n",
    "def first_day_of_month(any_day):\n",
    "    if any_day != None:\n",
    "        return any_day.replace(day = 1)\n",
    "    else:\n",
    "        return any_day\n",
    "\n",
    "def string_to_date(any_day):\n",
    "    if any_day != None:\n",
    "        return datetime.datetime.strptime(any_day,'%Y-%m-%d')\n",
    "    else:\n",
    "        return any_day\n",
    "    \n",
    "# added by SUMIT for dd/mm/yyyy format    \n",
    "def string_to_date_1(any_day):\n",
    "    if any_day != None:\n",
    "        return datetime.datetime.strptime(any_day,'%d/%m/%Y')\n",
    "    else:\n",
    "        return any_day    \n",
    "    \n",
    "\n",
    "from pyspark.sql.types import IntegerType\n",
    "def day_of_date(any_date):\n",
    "    if any_date != None:\n",
    "        return any_date.day\n",
    "    else:\n",
    "        return any_date\n",
    "\n",
    "def year_of_date(any_date):\n",
    "    if any_date != None:\n",
    "        return any_date.year\n",
    "    else:\n",
    "        return any_date\n",
    "\n",
    "from pyspark.sql.types import StringType\n",
    "def first_ten(any_string):\n",
    "    if any_string != None:\n",
    "        return any_string[0:10]\n",
    "    else:\n",
    "        return any_string      \n",
    "\n",
    "def after_ten(any_string):\n",
    "    if any_string != None:\n",
    "        return any_string[10:]\n",
    "    else:\n",
    "        return any_string \n",
    "\n",
    "def first_two(any_string):\n",
    "    if any_string != None:\n",
    "        if(len(any_string) == 7):\n",
    "            return any_string[0:2]\n",
    "        else:\n",
    "            return '0'\n",
    "    else:\n",
    "        return any_string\n",
    "\n",
    "def three_four(any_string):\n",
    "    if any_string != None:\n",
    "        if(len(any_string) == 7):\n",
    "            return any_string[2:4]\n",
    "        else:\n",
    "            return '0'\n",
    "    else:\n",
    "        return any_string\n",
    "\n",
    "def after_four(any_string):\n",
    "    if any_string != None:\n",
    "        if(len(any_string) == 7):\n",
    "            return any_string[4:7]\n",
    "        else:\n",
    "            return '0'\n",
    "    else:\n",
    "        return any_string\n",
    "\n",
    "def lengthSt(any_string):\n",
    "    if any_string != None:\n",
    "        return len(any_string)\n",
    "    else:\n",
    "        return 0\n",
    "    \n",
    "def upperAllColName(df):\n",
    "    for col in df.columns:\n",
    "        df=df.withColumnRenamed(col, (col).upper())\n",
    "    return df    "
   ]
  },
  {
   "cell_type": "code",
   "execution_count": 2,
   "metadata": {},
   "outputs": [],
   "source": [
    "url_uat = \"jdbc:postgresql://10.33.195.103:5432/gpadmin\"\n",
    "url_prod = \"jdbc:postgresql://10.35.12.194:5432/gpadmin\"\n",
    "user_prod=\"gpspark\"\n",
    "pwd_prod=\"spark@456\"\n",
    "dbschema_name = \"public\"\n",
    "dbschema_name_2=\"staging\""
   ]
  },
  {
   "cell_type": "code",
   "execution_count": 24,
   "metadata": {},
   "outputs": [],
   "source": [
    "gscPythonOptions = {\n",
    "         \"url\": \"jdbc:postgresql://10.35.12.194:5432/gpadmin\",\"user\": \"gpspark\",\"password\": \"spark@456\",\n",
    "         \"dbschema\": \"public\",\"dbtable\": \"customer_gc_genmst_customer\",\n",
    "         \"partitionColumn\":\"row_num\",\"partitions\":16,\n",
    "         \"server.port\":\"1177\"}\n",
    "\n",
    "customer_gc_genmst_customer =sqlContext.read.format(\"greenplum\").options(**gscPythonOptions).load()"
   ]
  },
  {
   "cell_type": "code",
   "execution_count": 26,
   "metadata": {},
   "outputs": [],
   "source": [
    "#customer_gc_genmst_customer.CreateOrRegisterTempTable(\"customer_gc_genmst_customer_2\")\n",
    "\n",
    "customer_gc_genmst_customer.createOrReplaceTempView(\"customer_gc_genmst_customer_2\")"
   ]
  },
  {
   "cell_type": "code",
   "execution_count": 32,
   "metadata": {},
   "outputs": [],
   "source": [
    "customer_gc_genmst_customer_3 = sqlContext.sql(\"select * \\\n",
    "from customer_gc_genmst_customer_2 where IND_CORP_FLAG='I' and \\\n",
    "date_format(coalesce (DAT_MODIFY_DATE,DAT_INSERT_DATE),'yyyy-mm-dd hh:mm:ss')>='2021-11-01' \\\n",
    "and date_format(coalesce (DAT_MODIFY_DATE,DAT_INSERT_DATE),'yyyy-mm-dd hh:mm:ss')< '2021-12-01'\")"
   ]
  },
  {
   "cell_type": "code",
   "execution_count": 36,
   "metadata": {},
   "outputs": [],
   "source": [
    "column_names = customer_gc_genmst_customer_3.columns"
   ]
  },
  {
   "cell_type": "code",
   "execution_count": 39,
   "metadata": {},
   "outputs": [
    {
     "name": "stdout",
     "output_type": "stream",
     "text": [
      "186"
     ]
    }
   ],
   "source": [
    "len(column_names)"
   ]
  },
  {
   "cell_type": "code",
   "execution_count": 40,
   "metadata": {},
   "outputs": [],
   "source": [
    "# customer_gc_genmst_customer --> customer_code\n",
    "# prodcomm -- record_type_desc\n",
    "email_columns = ['email', 'email_2']\n",
    "phone_columns = ['mobile_no', 'mobile1', 'mobile2', 'mobile3']"
   ]
  },
  {
   "cell_type": "code",
   "execution_count": 44,
   "metadata": {},
   "outputs": [],
   "source": [
    "spark.stop()"
   ]
  },
  {
   "cell_type": "code",
   "execution_count": null,
   "metadata": {},
   "outputs": [],
   "source": [
    "customer_gc_genmst_customer_3=customer_gc_genmst_customer_3.toPandas()\n",
    "\n",
    "import numpy as np\n",
    "customer_gc_genmst_customer_3['mobile_flag']=np.where((customer_gc_genmst_customer_3['mobile_no'].isna() & customer_gc_genmst_customer_3['mobile1'].isna(),\n",
    "                                                      customer_gc_genmst_customer_3['mobile2'].isna() & customer_gc_genmst_customer_3['mobile3'].isna()),0,1)"
   ]
  },
  {
   "cell_type": "code",
   "execution_count": null,
   "metadata": {},
   "outputs": [],
   "source": [
    "customer_gc_genmst_customer_4 = customer_gc_genmst_customer_3.withColumn('mobile_flag', \\\n",
    "                                    when((customer_gc_genmst_customer_3.mobile_no.isNull())&\\\n",
    "                                         (customer_gc_genmst_customer_3.mobile1.isNull())&\\\n",
    "                                         (customer_gc_genmst_customer_3.mobile2.isNull())&\\\n",
    "                                         (customer_gc_genmst_customer_3.mobile3.isNull()),0\\\n",
    "                                            .otherwise(1))"
   ]
  },
  {
   "cell_type": "code",
   "execution_count": null,
   "metadata": {},
   "outputs": [],
   "source": [
    "customer_gc_genmst_customer_4 = customer_gc_genmst_customer_3.withColumn('mobile_flag',\\\n",
    "                                                                         F.when(customer_gc_genmst_customer_3.mobile_no.isNull() &\\\n",
    "                                                                                customer_gc_genmst_customer_3.mobile1.isNull() &\\\n",
    "                                                                                customer_gc_genmst_customer_3.mobile2.isNull() &\\\n",
    "                                                                                customer_gc_genmst_customer_3.mobile3.isNull(), 1)\\\n",
    "                                                                         .otherwise(0)"
   ]
  },
  {
   "cell_type": "code",
   "execution_count": null,
   "metadata": {},
   "outputs": [],
   "source": [
    "customer_gc_genmst_customer_5 = customer_gc_genmst_customer_4.withColumn('email_flag', \\\n",
    "                                    when((customer_gc_genmst_customer_3.email.isNull())&\\\n",
    "                                         (customer_gc_genmst_customer_3.email_2.isNull()),0\\\n",
    "                                            .otherwise(1))"
   ]
  },
  {
   "cell_type": "code",
   "execution_count": null,
   "metadata": {},
   "outputs": [],
   "source": [
    "customer_gc_genmst_customer_5.select('customer_code').value_count()"
   ]
  },
  {
   "cell_type": "code",
   "execution_count": null,
   "metadata": {},
   "outputs": [],
   "source": []
  }
 ],
 "metadata": {
  "kernelspec": {
   "display_name": "PySpark",
   "language": "",
   "name": "pysparkkernel"
  },
  "language_info": {
   "codemirror_mode": {
    "name": "python",
    "version": 3
   },
   "mimetype": "text/x-python",
   "name": "pyspark",
   "pygments_lexer": "python3"
  }
 },
 "nbformat": 4,
 "nbformat_minor": 2
}
