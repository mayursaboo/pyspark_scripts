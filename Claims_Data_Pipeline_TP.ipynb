{
 "cells": [
  {
   "cell_type": "code",
   "execution_count": 1,
   "metadata": {
    "scrolled": true
   },
   "outputs": [
    {
     "name": "stdout",
     "output_type": "stream",
     "text": [
      "Starting Spark application\n"
     ]
    },
    {
     "data": {
      "text/html": [
       "<table>\n",
       "<tr><th>ID</th><th>YARN Application ID</th><th>Kind</th><th>State</th><th>Spark UI</th><th>Driver log</th><th>Current session?</th></tr><tr><td>1982</td><td>None</td><td>pyspark</td><td>idle</td><td></td><td></td><td>✔</td></tr></table>"
      ],
      "text/plain": [
       "<IPython.core.display.HTML object>"
      ]
     },
     "metadata": {},
     "output_type": "display_data"
    },
    {
     "name": "stdout",
     "output_type": "stream",
     "text": [
      "SparkSession available as 'spark'.\n",
      "JOB NAME = claims_pipeline_TP\n",
      "No_of_cpu=2\n",
      "Max_cores=2\n",
      "Executor_mem=16g\n",
      "Runtype=daily\n",
      "Report_date=2021-06-29\n",
      "<pyspark.conf.SparkConf object at 0x7fea4e5ad750>"
     ]
    }
   ],
   "source": [
    "import sys\n",
    "\n",
    "runtype = \"daily\"\n",
    "report_date = \"2021-06-29\"\n",
    "\n",
    "no_of_cpu = 2\n",
    "max_cores = 2\n",
    "executor_mem = '16g'\n",
    "\n",
    "Job_Name = 'claims_pipeline_TP'\n",
    "\n",
    "print(\"JOB NAME = \"+str(Job_Name))\n",
    "print(\"No_of_cpu=\"+str(no_of_cpu))\n",
    "print(\"Max_cores=\"+str(max_cores))\n",
    "print(\"Executor_mem=\"+str(executor_mem))\n",
    "print(\"Runtype=\"+str(runtype))\n",
    "print(\"Report_date=\"+str(report_date))\n",
    "\n",
    "from pyspark.mllib.stat import Statistics\n",
    "from pyspark.sql.functions import asc,lit\n",
    "#warnings.filterwarnings('error')\n",
    "import pyspark\n",
    "from datetime import datetime,timedelta\n",
    "import time;\n",
    "from pyspark.sql import SQLContext\n",
    "from pyspark import SparkContext, SparkConf\n",
    "conf = pyspark.SparkConf()\n",
    "#import numpy\n",
    "import calendar\n",
    "import numpy as np\n",
    "import datetime\n",
    "from pyspark.sql.functions import *\n",
    "import pyspark.sql.functions as sf\n",
    "from pyspark.sql.window import Window\n",
    "from pyspark.sql.types import *\n",
    "from pyspark.sql.functions import lit\n",
    "# import simplejson as json\n",
    "import json, pprint, requests\n",
    "\n",
    "mesos_ip = 'mesos://10.33.195.18:5050'\n",
    "spark.stop()\n",
    "conf.setMaster(mesos_ip)\n",
    "conf.set('spark.executor.cores',no_of_cpu)\n",
    "conf.set('spark.cores.max',max_cores)\n",
    "conf.set('spark.executor.memory',executor_mem)\n",
    "conf.set(\"spark.app.name\", Job_Name)\n",
    "#conf.set('spark.memory.fraction','.2')\n",
    "conf.set('spark.es.scroll.size','10000')\n",
    "conf.set('spark.network.timeout','600s')\n",
    "conf.set('spark.sql.crossJoin.enabled', 'true')\n",
    "conf.set('spark.executor.heartbeatInterval','60s')\n",
    "conf.set(\"spark.driver.cores\",\"4\")\n",
    "conf.set(\"spark.driver.extraJavaOptions\",\"-Xmx4g -Xms4g\")\n",
    "conf.set('es.nodes.wan.only','true')\n",
    "#conf.set(\"spark.shuffle.blockTransferService\", \"nio\"); \n",
    "conf.set(\"spark.files.overwrite\",\"true\"); \n",
    "conf.set(\"spark.kryoserializer.buffer\", \"70\"); \n",
    "conf.set(\"spark.driver.extraJavaOptions\", \"-XX:+UseG1GC\");\n",
    "conf.set(\"spark.executor.extraJavaOptions\", \"-XX:+UseG1GC\");\n",
    "conf.set(\"spark.serializer\", \"org.apache.spark.serializer.KryoSerializer\"); \n",
    "conf.set(\"spark.broadcast.compress\", \"true\"); \n",
    "conf.set(\"spark.shuffle.compress\", \"true\"); \n",
    "conf.set(\"spark.shuffle.spill.compress\", \"true\");\n",
    "#conf.set(\"spark.io.compression.codec\",\"org.apache.spark.io.LZ4CompressionCodec\");\n",
    "#conf.set(\"spark.sql.inMemoryColumnarStorage.compressed\", \"true\"); \n",
    "from pyspark.sql.functions import broadcast\n",
    "\n",
    "conf.set('spark.driver.memory','8g')\n",
    "conf.set('spark.sql.shuffle.partitions','300')\n",
    "#conf.set('spark.sql.crossJoin.enabled', 'true')\n",
    "# conf.set('es.nodes',es_nodes_prod)\n",
    "# conf.set('es.port',es_port_prod)\n",
    "#conf.set(\"spark.sql.autoBroadcastJoinThreshold\",-1)\n",
    "\n",
    "#conf.set('spark.es.net.http.auth.user','Spark')\n",
    "#conf.set('spark.es.net.http.auth.pass','Jarkpet1Sap3')\n",
    "#conf.set('spark.num.executors','5')\n",
    "\n",
    "# conf.set('spark.es.net.http.auth.user','biu_dev')\n",
    "# conf.set('spark.es.net.http.auth.pass','Biudev!23')\n",
    "\n",
    "conf.set('spark.es.mapping.date.rich','false')\n",
    "spark = pyspark.SparkContext(conf=conf)\n",
    "sqlContext = SQLContext(spark)\n",
    "import json, pprint, requests\n",
    "\n",
    "conf = pyspark.SparkConf()\n",
    "conf.set('es.http.timeout','5m')\n",
    "conf.set('es.http.retries','10')"
   ]
  },
  {
   "cell_type": "code",
   "execution_count": null,
   "metadata": {},
   "outputs": [],
   "source": [
    "def load_gpdb_jdbc(col_str,dbtable,port=1107,time_filter=None,col_name='REPORTEDDATE'):\n",
    "    \"\"\"\n",
    "    This is used to read gpdb with filter for columns and can apply other filter(date,values).\n",
    "    Time filter contains startdate,enddate\n",
    "    \"\"\"\n",
    "    gscPythonOptions = {\n",
    "                        \"url\": \"jdbc:postgresql://10.35.12.194:5432/gpadmin\",\n",
    "                        \"user\": \"gpanalytics\",\n",
    "                        \"password\": \"ana@678\",\n",
    "                        \"dbschema\": \"public\",\n",
    "                        \"dbtable\": dbtable,\n",
    "                        \"partitions\": 2,\n",
    "                        \"server.port\": port}\n",
    "   \n",
    "    if time_filter:\n",
    "        data = sqlContext.read.format(\"jdbc\").options(**gscPythonOptions).load()\\\n",
    "                .select(col_str).drop_duplicates().filter(col(col_name).between(to_timestamp(lit(time_filter['start_date']),\n",
    "                                                                 format='yyyy-MM-dd'),\n",
    "                                                    to_timestamp(lit(time_filter['end_date']),\n",
    "                                                                 format='yyyy-MM-dd')))\n",
    "    else :\n",
    "        data = sqlContext.read.format(\"jdbc\").options(**gscPythonOptions).load()\\\n",
    "                .select(col_str).drop_duplicates()\n",
    "   \n",
    "    return data"
   ]
  },
  {
   "cell_type": "markdown",
   "metadata": {},
   "source": [
    "### FEATURE SUMMARY"
   ]
  },
  {
   "cell_type": "markdown",
   "metadata": {},
   "source": [
    "#### SELECTING ONLY IMPORTANT COLUMNS FROM TABLE"
   ]
  },
  {
   "cell_type": "code",
   "execution_count": null,
   "metadata": {},
   "outputs": [],
   "source": [
    "time_filter={'start_date':'2019-10-01','end_date':'2021-01-01'}"
   ]
  },
  {
   "cell_type": "code",
   "execution_count": null,
   "metadata": {},
   "outputs": [],
   "source": [
    "cols = ['FEATURESUMMARYID','CLAIMNUMBER','POLICYNUMBER','CWPREASON','REPORTEDDATE','PRODUCTNAME','RPDREASON','LASTMODIFIEDON',\n",
    "       'CLAIMSTATUS','SETTLINGOFFICE','EXAMINERNAME']"
   ]
  },
  {
   "cell_type": "code",
   "execution_count": null,
   "metadata": {},
   "outputs": [],
   "source": [
    "# Loading data from green plum through py-spark : Getting claim_bpm_featuresummary claim table with feature summary from date year Jan - 2019 \n",
    "feature_sum = load_gpdb_jdbc(col_str=cols,dbtable='claim_bpm_featuresummary',port=1107,time_filter=time_filter)"
   ]
  },
  {
   "cell_type": "code",
   "execution_count": null,
   "metadata": {},
   "outputs": [],
   "source": [
    "feature_sum = feature_sum.withColumn(\"CLAIMSTATUS\", trim(col(\"CLAIMSTATUS\")))\n",
    "feature_sum = feature_sum.withColumn(\"CLAIMSTATUS\", upper(col(\"CLAIMSTATUS\")))"
   ]
  },
  {
   "cell_type": "code",
   "execution_count": null,
   "metadata": {},
   "outputs": [],
   "source": [
    "feature_sum = feature_sum.filter(col('CLAIMSTATUS')=='OPEN')"
   ]
  },
  {
   "cell_type": "code",
   "execution_count": null,
   "metadata": {},
   "outputs": [],
   "source": [
    "# Now probably we need to get only the last/recent claim date.\n",
    "tmp = feature_sum\n",
    "# date and time conversion \n",
    "tmp = tmp.withColumn(\"LASTMODIFIEDON\",\n",
    "                     to_timestamp(unix_timestamp(tmp[\"LASTMODIFIEDON\"],\n",
    "                                                 \"yyyy-MM-dd HH:mm:ss\").cast(\"timestamp\")))\n",
    "\n",
    "# group by descending order\n",
    "window = Window.partitionBy(tmp['FEATURESUMMARYID']).orderBy(tmp['LASTMODIFIEDON'].desc())\n",
    "# \n",
    "feat_sum_col = tmp.select('*', rank().over(window).alias('rank')).filter(col('rank') < 2)"
   ]
  },
  {
   "cell_type": "code",
   "execution_count": null,
   "metadata": {},
   "outputs": [],
   "source": [
    "feat_sum_col=feat_sum_col.drop_duplicates()"
   ]
  },
  {
   "cell_type": "code",
   "execution_count": null,
   "metadata": {},
   "outputs": [],
   "source": [
    "feat_sum_col=feat_sum_col.filter(col('POLICYNUMBER').isNotNull()).drop(feat_sum_col.rank)"
   ]
  },
  {
   "cell_type": "code",
   "execution_count": null,
   "metadata": {},
   "outputs": [],
   "source": [
    "# feat_sum_col.count()"
   ]
  },
  {
   "cell_type": "markdown",
   "metadata": {},
   "source": [
    "### CLAIM FEATURE MAPPING"
   ]
  },
  {
   "cell_type": "markdown",
   "metadata": {},
   "source": [
    "#### SELECTING ONLY IMPORTANT COLUMNS FROM TABLE"
   ]
  },
  {
   "cell_type": "code",
   "execution_count": null,
   "metadata": {},
   "outputs": [],
   "source": [
    "cols= ['FEATURESUMMARYID','COVERNAME','FEATURENUMBER']"
   ]
  },
  {
   "cell_type": "code",
   "execution_count": null,
   "metadata": {},
   "outputs": [],
   "source": [
    "claim_fea_map_col = load_gpdb_jdbc(col_str=cols,dbtable='claim_bpm_claimfeaturemapping',port=1107,time_filter=None)"
   ]
  },
  {
   "cell_type": "code",
   "execution_count": null,
   "metadata": {},
   "outputs": [],
   "source": [
    "claim_fea_map_col = claim_fea_map_col.withColumn(\"COVERNAME\", trim(col(\"COVERNAME\")))\n",
    "claim_fea_map_col = claim_fea_map_col.withColumn(\"COVERNAME\", lower(col(\"COVERNAME\")))"
   ]
  },
  {
   "cell_type": "code",
   "execution_count": null,
   "metadata": {},
   "outputs": [],
   "source": [
    "claim_fea_map_col=claim_fea_map_col.drop_duplicates()"
   ]
  },
  {
   "cell_type": "code",
   "execution_count": null,
   "metadata": {},
   "outputs": [],
   "source": [
    "gscPythonOptions = {\n",
    "                        \"url\": \"jdbc:postgresql://10.35.12.194:5432/gpadmin\",\n",
    "                        \"user\": \"gpanalytics\",\n",
    "                        \"password\": \"ana@678\",\n",
    "                        \"dbschema\": \"analytics\",\n",
    "                        \"dbtable\": \"TP_covernames\",\n",
    "                        \"partitions\": 2,\n",
    "                        \"server.port\": 1107}\n",
    "tp_covernames = sqlContext.read.format(\"jdbc\").options(**gscPythonOptions).load().drop_duplicates()"
   ]
  },
  {
   "cell_type": "code",
   "execution_count": null,
   "metadata": {},
   "outputs": [],
   "source": [
    "tp_covernames = tp_covernames.withColumn(\"corporatecd\", trim(col(\"corporatecd\")))\n",
    "tp_covernames = tp_covernames.withColumn(\"corporatecd\", lower(col(\"corporatecd\")))"
   ]
  },
  {
   "cell_type": "code",
   "execution_count": null,
   "metadata": {},
   "outputs": [],
   "source": [
    "tp_covernames.columns"
   ]
  },
  {
   "cell_type": "code",
   "execution_count": null,
   "metadata": {},
   "outputs": [],
   "source": [
    "claim_fea_tp = claim_fea_map_col.join(tp_covernames.select('corporatecd'),[claim_fea_map_col.COVERNAME==tp_covernames.corporatecd],\n",
    "                                      how='inner').drop_duplicates()"
   ]
  },
  {
   "cell_type": "code",
   "execution_count": null,
   "metadata": {},
   "outputs": [],
   "source": [
    "# claim_fea_tp.count()"
   ]
  },
  {
   "cell_type": "code",
   "execution_count": null,
   "metadata": {},
   "outputs": [],
   "source": [
    "tp_claims = feat_sum_col.join(claim_fea_tp,[feat_sum_col.FEATURESUMMARYID==claim_fea_tp.FEATURESUMMARYID],how='inner').drop(claim_fea_tp.FEATURESUMMARYID)"
   ]
  },
  {
   "cell_type": "code",
   "execution_count": null,
   "metadata": {},
   "outputs": [],
   "source": [
    "tp_claims.columns"
   ]
  },
  {
   "cell_type": "markdown",
   "metadata": {},
   "source": [
    "### LOSS DETAILS"
   ]
  },
  {
   "cell_type": "markdown",
   "metadata": {},
   "source": [
    "#### SELECTING ONLY IMPORTANT COLUMNS FROM TABLE"
   ]
  },
  {
   "cell_type": "code",
   "execution_count": null,
   "metadata": {},
   "outputs": [],
   "source": [
    "cols = ['FEATURESUMMARYID', 'LOSSTIME','STATE','CITY','DATEOFLOSS','LOSSDESCRIPTION','INJURYTYPE']"
   ]
  },
  {
   "cell_type": "code",
   "execution_count": null,
   "metadata": {},
   "outputs": [],
   "source": [
    "loss_details_col = load_gpdb_jdbc(col_str=cols,dbtable='claim_bpm_lossdetails',port=1107,time_filter=None)"
   ]
  },
  {
   "cell_type": "code",
   "execution_count": null,
   "metadata": {},
   "outputs": [],
   "source": [
    "loss_details_col = loss_details_col.withColumnRenamed('STATE','LOSS_STATE')\n",
    "loss_details_col = loss_details_col.withColumnRenamed('CITY','LOSS_CITY')"
   ]
  },
  {
   "cell_type": "code",
   "execution_count": null,
   "metadata": {},
   "outputs": [],
   "source": [
    "loss_details_col = loss_details_col.drop_duplicates()"
   ]
  },
  {
   "cell_type": "code",
   "execution_count": null,
   "metadata": {},
   "outputs": [],
   "source": [
    "tp_claims_1=tp_claims.join(loss_details_col,[tp_claims.FEATURESUMMARYID==loss_details_col.FEATURESUMMARYID],\n",
    "                          how='left').drop(loss_details_col.FEATURESUMMARYID)"
   ]
  },
  {
   "cell_type": "code",
   "execution_count": null,
   "metadata": {},
   "outputs": [],
   "source": [
    "# tp_claims_1.count()"
   ]
  },
  {
   "cell_type": "markdown",
   "metadata": {},
   "source": [
    "### LITIGATION_DETAILS"
   ]
  },
  {
   "cell_type": "code",
   "execution_count": null,
   "metadata": {},
   "outputs": [],
   "source": [
    "cols =['FEATURESUMMARYID','COURTNAME','COURTDISTRICT','LITIGATIONTYPE','PLAINTIFFATTORNEY','CREATEDON']"
   ]
  },
  {
   "cell_type": "code",
   "execution_count": null,
   "metadata": {},
   "outputs": [],
   "source": [
    "litigation_details = load_gpdb_jdbc(col_str=cols,dbtable='claim_bpm_litigationdetails',port=1107,time_filter=None)"
   ]
  },
  {
   "cell_type": "code",
   "execution_count": null,
   "metadata": {},
   "outputs": [],
   "source": [
    "litigation_details.select('COURTNAME').distinct().count()"
   ]
  },
  {
   "cell_type": "code",
   "execution_count": null,
   "metadata": {},
   "outputs": [],
   "source": [
    "litigation_details = litigation_details.withColumn(\"COURTNAME\",sf.upper(sf.trim(sf.col(\"COURTNAME\"))))\n",
    "litigation_details = litigation_details.withColumn(\"COURTDISTRICT\",sf.upper(sf.trim(sf.col(\"COURTDISTRICT\"))))\n",
    "litigation_details = litigation_details.withColumn(\"PLAINTIFFATTORNEY\",sf.upper(sf.trim(sf.col(\"PLAINTIFFATTORNEY\"))))"
   ]
  },
  {
   "cell_type": "code",
   "execution_count": null,
   "metadata": {},
   "outputs": [],
   "source": [
    "# litigation_details.count()"
   ]
  },
  {
   "cell_type": "code",
   "execution_count": null,
   "metadata": {},
   "outputs": [],
   "source": [
    "# Now probably we need to get only the last/recent claim date.\n",
    "tmp = litigation_details\n",
    "# date and time conversion \n",
    "tmp = tmp.withColumn(\"CREATEDON\",to_timestamp(unix_timestamp(tmp[\"CREATEDON\"],\"yyyy-MM-dd HH:mm:ss\").cast(\"timestamp\")))\n",
    "# group by descending order\n",
    "window = Window.partitionBy(tmp['FEATURESUMMARYID']).orderBy(tmp['CREATEDON'].desc())\n",
    "litigation_details = tmp.select('*', rank().over(window).alias('rank')).filter(col('rank') < 2)"
   ]
  },
  {
   "cell_type": "code",
   "execution_count": null,
   "metadata": {},
   "outputs": [],
   "source": [
    "litigation_details=litigation_details.drop('CREATEDON')"
   ]
  },
  {
   "cell_type": "code",
   "execution_count": null,
   "metadata": {},
   "outputs": [],
   "source": [
    "litigation_details=litigation_details.drop_duplicates()"
   ]
  },
  {
   "cell_type": "code",
   "execution_count": null,
   "metadata": {},
   "outputs": [],
   "source": [
    "# litigation_details.count()"
   ]
  },
  {
   "cell_type": "markdown",
   "metadata": {},
   "source": [
    "### COURT MASTER"
   ]
  },
  {
   "cell_type": "code",
   "execution_count": null,
   "metadata": {},
   "outputs": [],
   "source": [
    "cols = ['COURTNAME','DISTRICT','STATE']"
   ]
  },
  {
   "cell_type": "code",
   "execution_count": null,
   "metadata": {},
   "outputs": [],
   "source": [
    "court_master = load_gpdb_jdbc(col_str=cols,dbtable='claim_bpm_courtmaster',port=1107,time_filter=None).drop_duplicates()"
   ]
  },
  {
   "cell_type": "code",
   "execution_count": null,
   "metadata": {},
   "outputs": [],
   "source": [
    "court_master = court_master.withColumnRenamed('STATE','COURT_STATE')\n",
    "court_master = court_master.withColumnRenamed('DISTRICT','COURT_DISTRICT')"
   ]
  },
  {
   "cell_type": "code",
   "execution_count": null,
   "metadata": {},
   "outputs": [],
   "source": [
    "# court_master.select('COURTNAME').distinct().count()"
   ]
  },
  {
   "cell_type": "code",
   "execution_count": null,
   "metadata": {},
   "outputs": [],
   "source": [
    "court_master = court_master.withColumn(\"COURTNAME\",sf.upper(sf.trim(sf.col(\"COURTNAME\"))))\n",
    "court_master = court_master.withColumn(\"COURT_DISTRICT\",sf.upper(sf.trim(sf.col(\"COURT_DISTRICT\"))))"
   ]
  },
  {
   "cell_type": "code",
   "execution_count": null,
   "metadata": {},
   "outputs": [],
   "source": [
    "court_master = court_master.drop_duplicates()"
   ]
  },
  {
   "cell_type": "code",
   "execution_count": null,
   "metadata": {},
   "outputs": [],
   "source": [
    "# court_master.count()"
   ]
  },
  {
   "cell_type": "markdown",
   "metadata": {},
   "source": [
    "#### COURT MASTER JOIN WITH LITIGATION"
   ]
  },
  {
   "cell_type": "code",
   "execution_count": null,
   "metadata": {},
   "outputs": [],
   "source": [
    "cond=[litigation_details.COURTNAME == court_master.COURTNAME, litigation_details.COURTDISTRICT == court_master.COURT_DISTRICT]\n",
    "court_details = litigation_details.join(court_master, cond, how='left').drop(court_master.COURTNAME)\n",
    "# .drop(court_master.COURTNAME).drop(court_master.DISTRICT)"
   ]
  },
  {
   "cell_type": "code",
   "execution_count": null,
   "metadata": {},
   "outputs": [],
   "source": [
    "court_details=court_details.drop_duplicates()"
   ]
  },
  {
   "cell_type": "code",
   "execution_count": null,
   "metadata": {},
   "outputs": [],
   "source": [
    "tp_claims_2=tp_claims_1.join(court_details,[tp_claims_1.FEATURESUMMARYID==court_details.FEATURESUMMARYID],how='left').drop(court_details.FEATURESUMMARYID)"
   ]
  },
  {
   "cell_type": "code",
   "execution_count": null,
   "metadata": {},
   "outputs": [],
   "source": [
    "tp_claims_2.columns"
   ]
  },
  {
   "cell_type": "markdown",
   "metadata": {},
   "source": [
    "### POLICY DETAILS"
   ]
  },
  {
   "cell_type": "code",
   "execution_count": null,
   "metadata": {},
   "outputs": [],
   "source": [
    "cols = ['FEATURESUMMARYID','DAT_POLICY_STARTDATE','DAT_POLICY_ENDDATE','TXT_POLICY_START_TIME','TXT_BUSINESS_TYPE',\n",
    "        'TXT_PRODUCER_CD', 'TXT_PRODUCER_NAME','TXT_REG_NO','TXT_POLICY_NO_CHAR']"
   ]
  },
  {
   "cell_type": "code",
   "execution_count": null,
   "metadata": {},
   "outputs": [],
   "source": [
    "policy_det_col = load_gpdb_jdbc(col_str=cols,dbtable='claim_bpm_policydetailsaudit',port=1107,time_filter=None)"
   ]
  },
  {
   "cell_type": "code",
   "execution_count": null,
   "metadata": {},
   "outputs": [],
   "source": [
    "policy_det_col=policy_det_col.drop_duplicates()"
   ]
  },
  {
   "cell_type": "code",
   "execution_count": null,
   "metadata": {},
   "outputs": [],
   "source": [
    "tp_claims_3=tp_claims_2.join(policy_det_col,[tp_claims_2.POLICYNUMBER==policy_det_col.TXT_POLICY_NO_CHAR,\n",
    "                                             tp_claims_2.FEATURESUMMARYID==policy_det_col.FEATURESUMMARYID],how='left').drop(policy_det_col.FEATURESUMMARYID).drop_duplicates()"
   ]
  },
  {
   "cell_type": "code",
   "execution_count": null,
   "metadata": {},
   "outputs": [],
   "source": [
    "tp_claims_3.columns"
   ]
  },
  {
   "cell_type": "markdown",
   "metadata": {},
   "source": [
    "### FIR DETAILS"
   ]
  },
  {
   "cell_type": "code",
   "execution_count": null,
   "metadata": {},
   "outputs": [],
   "source": [
    "cols = ['FEATURESUMMARYID','CITY','STATE','DISTRICT','FIRDATE','ISINSUREDVEHICLENOTIDENTIFIEDINFIR','POLICESTATIONADDRESS1',\n",
    "        'POLICESTATIONADDRESS2','POLICESTATIONADDRESS3','POLICESTATIONLOCATION','PINCODE','CREATEDON']\n",
    "firdetails = load_gpdb_jdbc(col_str=cols,dbtable='claim_bpm_firdetailsclaimprocessing',port=1107,time_filter=None)"
   ]
  },
  {
   "cell_type": "code",
   "execution_count": null,
   "metadata": {},
   "outputs": [],
   "source": [
    "firdetails = firdetails.withColumnRenamed('STATE','FIR_STATE')\n",
    "firdetails = firdetails.withColumnRenamed('DISTRICT','FIR_DISTRICT')\n",
    "firdetails = firdetails.withColumnRenamed('CITY','FIR_CITY')"
   ]
  },
  {
   "cell_type": "code",
   "execution_count": null,
   "metadata": {},
   "outputs": [],
   "source": [
    "firdetails = firdetails.withColumn(\"POLICESTATIONLOCATION\",sf.upper(sf.trim(sf.col(\"POLICESTATIONLOCATION\"))))\n",
    "firdetails = firdetails.withColumn(\"POLICESTATIONADDRESS1\",sf.upper(sf.trim(sf.col(\"POLICESTATIONADDRESS1\"))))\n",
    "firdetails = firdetails.withColumn(\"POLICESTATIONADDRESS2\",sf.upper(sf.trim(sf.col(\"POLICESTATIONADDRESS2\"))))\n",
    "firdetails = firdetails.withColumn(\"POLICESTATIONADDRESS3\",sf.upper(sf.trim(sf.col(\"POLICESTATIONADDRESS3\"))))"
   ]
  },
  {
   "cell_type": "code",
   "execution_count": null,
   "metadata": {},
   "outputs": [],
   "source": [
    "# Now probably we need to get only the last/recent claim date.\n",
    "tmp = firdetails\n",
    "# date and time conversion \n",
    "tmp = tmp.withColumn(\"CREATEDON\",to_timestamp(unix_timestamp(tmp[\"CREATEDON\"],\"yyyy-MM-dd HH:mm:ss\").cast(\"timestamp\")))\n",
    "# group by descending order\n",
    "window = Window.partitionBy(tmp['FEATURESUMMARYID']).orderBy(tmp['CREATEDON'].desc())\n",
    "firdetails = tmp.select('*', rank().over(window).alias('rank')).filter(col('rank') < 2)"
   ]
  },
  {
   "cell_type": "code",
   "execution_count": null,
   "metadata": {},
   "outputs": [],
   "source": [
    "firdetails=firdetails.drop('rank').drop('CREATEDON')"
   ]
  },
  {
   "cell_type": "code",
   "execution_count": null,
   "metadata": {},
   "outputs": [],
   "source": [
    "firdetails=firdetails.drop_duplicates()"
   ]
  },
  {
   "cell_type": "code",
   "execution_count": null,
   "metadata": {},
   "outputs": [],
   "source": [
    "tp_claims_4=tp_claims_3.join(firdetails,[tp_claims_3.FEATURESUMMARYID==firdetails.FEATURESUMMARYID],how='left').drop(firdetails.FEATURESUMMARYID).drop_duplicates()"
   ]
  },
  {
   "cell_type": "code",
   "execution_count": null,
   "metadata": {},
   "outputs": [],
   "source": [
    "tp_claims_4.columns"
   ]
  },
  {
   "cell_type": "markdown",
   "metadata": {},
   "source": [
    "### HOSPITAL DETAILS"
   ]
  },
  {
   "cell_type": "code",
   "execution_count": null,
   "metadata": {},
   "outputs": [],
   "source": [
    "cols = ['FEATURESUMMARYID','HOSPITALADDRESS','HOSPITALNAME','HOSPITALMASTERID','CREATEDON']\n",
    "hosp_details = load_gpdb_jdbc(col_str=cols,dbtable='claim_bpm_hospitaldetails',port=1107,time_filter=None)"
   ]
  },
  {
   "cell_type": "code",
   "execution_count": null,
   "metadata": {},
   "outputs": [],
   "source": [
    "# Now probably we need to get only the last/recent claim date.\n",
    "tmp = hosp_details\n",
    "# date and time conversion \n",
    "tmp = tmp.withColumn(\"CREATEDON\",to_timestamp(unix_timestamp(tmp[\"CREATEDON\"],\"yyyy-MM-dd HH:mm:ss\").cast(\"timestamp\")))\n",
    "# group by descending order\n",
    "window = Window.partitionBy(tmp['FEATURESUMMARYID']).orderBy(tmp['CREATEDON'].desc())\n",
    "hosp_details = tmp.select('*', rank().over(window).alias('rank')).filter(col('rank') < 2)"
   ]
  },
  {
   "cell_type": "code",
   "execution_count": null,
   "metadata": {},
   "outputs": [],
   "source": [
    "hosp_details=hosp_details.drop('rank').drop('CREATEDON')"
   ]
  },
  {
   "cell_type": "code",
   "execution_count": null,
   "metadata": {},
   "outputs": [],
   "source": [
    "hosp_details=hosp_details.drop_duplicates()"
   ]
  },
  {
   "cell_type": "code",
   "execution_count": null,
   "metadata": {},
   "outputs": [],
   "source": [
    "hosp_details = hosp_details.withColumn(\"HOSPITALNAME\",sf.upper(sf.trim(sf.col(\"HOSPITALNAME\"))))"
   ]
  },
  {
   "cell_type": "markdown",
   "metadata": {},
   "source": [
    "#### LOADING HOSPITAL MASTER TO GET ADDRESS DETAILS"
   ]
  },
  {
   "cell_type": "code",
   "execution_count": null,
   "metadata": {},
   "outputs": [],
   "source": [
    "cols = ['HOSPITALMASTERID', 'HOSPITALNAME','DISTRICT', 'STATE']\n",
    "hosp_master = load_gpdb_jdbc(col_str=cols,dbtable='claim_bpm_hospitalmaster',port=1107,time_filter=None)"
   ]
  },
  {
   "cell_type": "code",
   "execution_count": null,
   "metadata": {},
   "outputs": [],
   "source": [
    "hosp_master = hosp_master.withColumnRenamed('STATE','HOSPITAL_STATE')\n",
    "hosp_master = hosp_master.withColumnRenamed('DISTRICT','HOSPITAL_DISTRICT')"
   ]
  },
  {
   "cell_type": "code",
   "execution_count": null,
   "metadata": {},
   "outputs": [],
   "source": [
    "hosp_master = hosp_master.drop_duplicates()"
   ]
  },
  {
   "cell_type": "markdown",
   "metadata": {},
   "source": [
    "#### JOIN HOSPITAL DETAILS WITH MASTER TABLE"
   ]
  },
  {
   "cell_type": "code",
   "execution_count": null,
   "metadata": {},
   "outputs": [],
   "source": [
    "cond=[hosp_details.HOSPITALMASTERID == hosp_master.HOSPITALMASTERID]\n",
    "hosp_final = hosp_details.join(hosp_master, cond, how='left').drop(hosp_master.HOSPITALNAME).drop(hosp_master.HOSPITALMASTERID)"
   ]
  },
  {
   "cell_type": "code",
   "execution_count": null,
   "metadata": {},
   "outputs": [],
   "source": [
    "hosp_final = hosp_final.drop_duplicates()"
   ]
  },
  {
   "cell_type": "code",
   "execution_count": null,
   "metadata": {},
   "outputs": [],
   "source": [
    "tp_claims_5 = tp_claims_4.join(hosp_final,[tp_claims_4.FEATURESUMMARYID==hosp_final.FEATURESUMMARYID],how='left').drop(hosp_final.FEATURESUMMARYID).drop_duplicates()"
   ]
  },
  {
   "cell_type": "code",
   "execution_count": null,
   "metadata": {},
   "outputs": [],
   "source": [
    "tp_claims_5.columns"
   ]
  },
  {
   "cell_type": "markdown",
   "metadata": {},
   "source": [
    "### INJURED DECEASED DETAILS"
   ]
  },
  {
   "cell_type": "code",
   "execution_count": null,
   "metadata": {},
   "outputs": [],
   "source": [
    "cols = ['FEATURESUMMARYID','INJUREDDECEASEDNAME','CREATEDON']\n",
    "injured_details = load_gpdb_jdbc(col_str=cols,dbtable='claim_bpm_injureddeceaseddetails',port=1107,time_filter=None)"
   ]
  },
  {
   "cell_type": "code",
   "execution_count": null,
   "metadata": {},
   "outputs": [],
   "source": [
    "# Now probably we need to get only the last/recent claim date.\n",
    "tmp = injured_details\n",
    "# date and time conversion \n",
    "tmp = tmp.withColumn(\"CREATEDON\",to_timestamp(unix_timestamp(tmp[\"CREATEDON\"],\"yyyy-MM-dd HH:mm:ss\").cast(\"timestamp\")))\n",
    "# group by descending order\n",
    "window = Window.partitionBy(tmp['FEATURESUMMARYID']).orderBy(tmp['CREATEDON'].desc())\n",
    "injured_details = tmp.select('*', rank().over(window).alias('rank')).filter(col('rank') < 2)"
   ]
  },
  {
   "cell_type": "code",
   "execution_count": null,
   "metadata": {},
   "outputs": [],
   "source": [
    "injured_details = injured_details.drop('rank').drop('CREATEDON')"
   ]
  },
  {
   "cell_type": "code",
   "execution_count": null,
   "metadata": {},
   "outputs": [],
   "source": [
    "injured_details = injured_details.drop_duplicates()"
   ]
  },
  {
   "cell_type": "code",
   "execution_count": null,
   "metadata": {},
   "outputs": [],
   "source": [
    "tp_claims_6 = tp_claims_5.join(injured_details,[tp_claims_5.FEATURESUMMARYID==injured_details.FEATURESUMMARYID],\n",
    "                              how='left').drop(injured_details.FEATURESUMMARYID).drop_duplicates()"
   ]
  },
  {
   "cell_type": "code",
   "execution_count": null,
   "metadata": {},
   "outputs": [],
   "source": [
    "tp_claims_6.columns"
   ]
  },
  {
   "cell_type": "code",
   "execution_count": null,
   "metadata": {},
   "outputs": [],
   "source": [
    "# tp_claims_6.columns"
   ]
  },
  {
   "cell_type": "code",
   "execution_count": null,
   "metadata": {},
   "outputs": [],
   "source": [
    "tp_claims_6 = tp_claims_6.withColumn(\"TXT_POLICY_NO_CHAR\",sf.upper(sf.trim(sf.col(\"TXT_POLICY_NO_CHAR\"))))"
   ]
  },
  {
   "cell_type": "code",
   "execution_count": null,
   "metadata": {},
   "outputs": [],
   "source": [
    "tp_claims_6 = tp_claims_6.withColumn(\"TXT_POLICY_NO_CHAR\",col(\"TXT_POLICY_NO_CHAR\").cast(StringType()))"
   ]
  },
  {
   "cell_type": "markdown",
   "metadata": {},
   "source": [
    "### Premium Register"
   ]
  },
  {
   "cell_type": "code",
   "execution_count": null,
   "metadata": {},
   "outputs": [],
   "source": [
    "# input_df_distinct = tp_claims_6.select('POLICYNUMBER').distinct()\n",
    "# input_df_distinct = input_df_distinct.filter(input_df_distinct.POLICYNUMBER.isNotNull())"
   ]
  },
  {
   "cell_type": "code",
   "execution_count": null,
   "metadata": {},
   "outputs": [],
   "source": [
    "gscPythonOptions = {\n",
    "        \"url\": \"jdbc:postgresql://10.35.12.194:5432/gpadmin\",\"user\": \"gpanalytics\",\"password\": \"ana@678\",\"dbschema\": \"registers\",\n",
    "        \"dbtable\": \"premium_register\",\"partitions\":16,\"server.port\": '1150-1170',\"partitionColumn\":\"row_num\"}\n",
    "prem_reg = sqlContext.read.format(\"greenplum\").options(**gscPythonOptions).load()\\\n",
    ".select('POLICY_NO','BRANCH','BRANCH_STATE_NAME','COVERNOTENUMBER','CRS_RCPT_DATE','NUM_REFERENCE_NO','POL_EXP_DATE', 'POL_INCEPT_DATE',\n",
    "       'PREMIUM_AMOUNT_INR_WITHOUT_TAX','RECORD_TYPE_DESC').drop_duplicates()\n",
    "# .filter(col('NUM_REFERENCE_NO').isin([202001010068276]))"
   ]
  },
  {
   "cell_type": "code",
   "execution_count": null,
   "metadata": {},
   "outputs": [],
   "source": [
    "tp_claims_7 = tp_claims_6.join(prem_reg,[prem_reg.POLICY_NO==tp_claims_6.TXT_POLICY_NO_CHAR,\n",
    "                                         prem_reg.POL_INCEPT_DATE==tp_claims_6.DAT_POLICY_STARTDATE],\n",
    "                               how='left').drop_duplicates()"
   ]
  },
  {
   "cell_type": "code",
   "execution_count": null,
   "metadata": {},
   "outputs": [],
   "source": [
    "tp_claims_7.columns"
   ]
  },
  {
   "cell_type": "markdown",
   "metadata": {},
   "source": [
    "#### VEHICLE AGE, PROPOSAL TYPE"
   ]
  },
  {
   "cell_type": "code",
   "execution_count": null,
   "metadata": {},
   "outputs": [],
   "source": [
    "gscPythonOptions = {\n",
    "        \"url\": \"jdbc:postgresql://10.35.12.194:5432/gpadmin\",\"user\": \"gpspark\",\"password\": \"spark@456\",\"dbschema\": \"public\",\n",
    "        \"dbtable\": \"policy_dh_risk_headers_mot\",\"partitions\":16,\"server.port\": '1150-1170',\"partitionColumn\":\"row_num\"}\n",
    "pol_head_mot = sqlContext.read.format(\"greenplum\").options(**gscPythonOptions).load()\\\n",
    ".select('REFERENCE_NUM','PROPOSAL_TYPE','VEHICLE_AGE','RISK1').drop_duplicates()"
   ]
  },
  {
   "cell_type": "code",
   "execution_count": null,
   "metadata": {},
   "outputs": [],
   "source": [
    "tp_claims_8 = tp_claims_7.join(pol_head_mot,[pol_head_mot.REFERENCE_NUM==tp_claims_7.NUM_REFERENCE_NO],\n",
    "                               how='left').drop(pol_head_mot.REFERENCE_NUM).drop_duplicates()"
   ]
  },
  {
   "cell_type": "code",
   "execution_count": null,
   "metadata": {},
   "outputs": [],
   "source": [
    "tp_claims_8.columns"
   ]
  },
  {
   "cell_type": "code",
   "execution_count": null,
   "metadata": {},
   "outputs": [],
   "source": [
    "# tp_claims_8 = tp_claims_8.withColumn('POLICY_YEAR',sf.year(sf.to_timestamp('DAT_POLICY_STARTDATE', 'yyyy-mm-dd')))"
   ]
  },
  {
   "cell_type": "code",
   "execution_count": null,
   "metadata": {},
   "outputs": [],
   "source": [
    "# tp_claims_8 = tp_claims_8.withColumn('POLICY_YEAR_BEFORE', ( tp_claims_8['POLICY_YEAR'] - 1))"
   ]
  },
  {
   "cell_type": "markdown",
   "metadata": {},
   "source": [
    "### PREVIOUS POLICY DETAILS"
   ]
  },
  {
   "cell_type": "code",
   "execution_count": null,
   "metadata": {},
   "outputs": [],
   "source": [
    "gscPythonOptions = {\n",
    "        \"url\": \"jdbc:postgresql://10.35.12.194:5432/gpadmin\",\"user\": \"gpspark\",\"password\": \"spark@456\",\"dbschema\": \"public\",\n",
    "        \"dbtable\": \"policy_gc_previous_policy_details_tab\",\"partitions\":8,\"server.port\": '1150-1170',\"partitionColumn\":\"row_num\"}\n",
    "prev_pol = sqlContext.read.format(\"greenplum\").options(**gscPythonOptions).load()\\\n",
    ".select('NUM_REFERENCE_NUMBER','CORPORATE_CUSTOMER_ID').drop_duplicates()"
   ]
  },
  {
   "cell_type": "code",
   "execution_count": null,
   "metadata": {},
   "outputs": [],
   "source": [
    "tp_claims_9 = tp_claims_8.join(prev_pol,[prev_pol.NUM_REFERENCE_NUMBER==tp_claims_8.NUM_REFERENCE_NO],how='left').drop(prev_pol.NUM_REFERENCE_NUMBER)"
   ]
  },
  {
   "cell_type": "code",
   "execution_count": null,
   "metadata": {},
   "outputs": [],
   "source": [
    "tp_claims_9=tp_claims_9.drop_duplicates()"
   ]
  },
  {
   "cell_type": "code",
   "execution_count": null,
   "metadata": {
    "scrolled": true
   },
   "outputs": [],
   "source": [
    "tp_claims_9.columns"
   ]
  },
  {
   "cell_type": "code",
   "execution_count": null,
   "metadata": {},
   "outputs": [],
   "source": [
    "tp_claims_9.persist(pyspark.StorageLevel.MEMORY_AND_DISK)"
   ]
  },
  {
   "cell_type": "code",
   "execution_count": null,
   "metadata": {},
   "outputs": [],
   "source": [
    "output_index = 'claims_data_TP_20apr'\n",
    "\n",
    "import sys\n",
    "\n",
    "try:\n",
    "    tp_claims_9.write.format(\"greenplum\")\\\n",
    "    .option(\"dbtable\",output_index)\\\n",
    "    .option('dbschema','analytics')\\\n",
    "    .option(\"server.port\",'1150-1170')\\\n",
    "    .option(\"url\",\"jdbc:postgresql://10.35.12.194:5432/gpadmin\")\\\n",
    "    .option(\"user\", \"gpspark\")\\\n",
    "    .option(\"password\",\"spark@456\")\\\n",
    "    .option(\"partitions\",8)\\\n",
    "    .mode('overwrite')\\\n",
    "    .save()\n",
    "\n",
    "except Exception as e:\n",
    "    x = e\n",
    "    print(x)\n",
    "else:\n",
    "    x = 200 #success\n",
    "    print(x)"
   ]
  },
  {
   "cell_type": "code",
   "execution_count": null,
   "metadata": {},
   "outputs": [],
   "source": [
    "tp_claims_9.unpersist()"
   ]
  },
  {
   "cell_type": "code",
   "execution_count": 2,
   "metadata": {},
   "outputs": [],
   "source": [
    "from pg import DB\n",
    "db = DB(dbname=\"gpadmin\", user='gpanalytics', passwd='ana@678', host='10.35.12.194', port= 5432)"
   ]
  },
  {
   "cell_type": "code",
   "execution_count": null,
   "metadata": {},
   "outputs": [],
   "source": [
    "a = db.query(\"DELETE FROM analytics.claim_hist_24apr where num_claim_no in (select distinct gc.num_claim_no \\\n",
    "             from public.claim_gc_gc_clm_gen_info gc where extract(year from gc.dat_notification_date)>=2018 \\\n",
    "             and cast(gc.dat_update_date as date)=(CURRENT_DATE-INTERVAL '1 day'))\")\n",
    "print(\"Deleted records for modified claim numbers  : \"+ a)"
   ]
  },
  {
   "cell_type": "code",
   "execution_count": 4,
   "metadata": {},
   "outputs": [
    {
     "name": "stderr",
     "output_type": "stream",
     "text": [
      "ERROR:  table \"claims_hist_29_jun\" does not exist\n",
      "\n",
      "Traceback (most recent call last):\n",
      "  File \"/usr/local/lib/python3.7/dist-packages/pg.py\", line 1975, in query\n",
      "    return self.db.query(command)\n",
      "pg.ProgrammingError: ERROR:  table \"claims_hist_29_jun\" does not exist\n",
      "\n",
      "\n"
     ]
    }
   ],
   "source": [
    "a = db.query(\"DROP TABLE analytics.claims_hist_29_jun\")\n",
    "# print(\"Deleted records for modified claim numbers  : \"+ a)"
   ]
  },
  {
   "cell_type": "code",
   "execution_count": null,
   "metadata": {},
   "outputs": [],
   "source": [
    "s = db.query(\"Insert into analytics.claim_hist_24apr (txt_master_claim_no,num_claim_no,dat_loss_date, \\\n",
    "             dat_notification_date,dat_update_date ,txt_policy_no_char ,featureno ,productname, txt_cover_description ,\\\n",
    "             cwpreason ,rpdreason, producer_cd,crs_rcpt_date,pol_incept_date,covernotenumber,cover_note_date ) \\\n",
    "             (select distinct t1.txt_master_claim_no ,t1.num_claim_no ,t1.dat_loss_date ,t1.dat_notification_date ,\\\n",
    "             t1.dat_update_date ,t1.txt_policy_no_char ,t1.featureno, t1.productname, t1.txt_cover_description, t1.cwpreason, \\\n",
    "             t1.rpdreason,t1.producer_cd,t1.crs_rcpt_date,t1.pol_incept_date,t1.covernotenumber ,t1.cover_note_date from \\\n",
    "             ((((select distinct gc.txt_master_claim_no,gc.num_claim_no,gc.dat_loss_date,gc.txt_policy_no_char, \\\n",
    "             gc.dat_policy_inception_date, gc.dat_notification_date,gc.dat_update_date,em.featureno, \\\n",
    "             pm.productname, rgc.txt_cover_description,gc.num_reference_no from public.claim_gc_gc_clm_gen_info gc, \\\n",
    "             (select distinct num_claim_no, featureno,injuryname from public.claim_dh_gc_clm_gen_info_extra_mot) em, \\\n",
    "             public.reference_gc_covercodemaster rgc, \\\n",
    "             (select productname,productcode from public.underwriting_gc_uw_product_master \\\n",
    "             where productcode in (3121,3122,3124,3125,3126,3183,3184,3186,3188,3189,3191)) pm \\\n",
    "             where gc.num_claim_no = em.num_claim_no and gc.num_nature_of_loss = rgc.num_cover_code and \\\n",
    "             gc.num_update_no = (select max(a.num_update_no) from public.claim_gc_gc_clm_gen_info a \\\n",
    "             where a.num_claim_no=gc.num_claim_no) and gc.num_product_code = pm.productcode) f1 \\\n",
    "             left join (select distinct g.num_claim_no as claim_no1, c.txt_repudiation_reason_desc as cwpReason, \\\n",
    "             c.txt_info1 as cwp from public.claim_gc_gc_clm_gen_info g,public.claim_gc_gc_clmmst_repudiation_reason c \\\n",
    "             where g.num_repudiation_reason_id in \\\n",
    "             (select num_repudiation_reason_id from public.claim_gc_gc_clmmst_repudiation_reason r \\\n",
    "              where r.txt_info1 in ('CWP')) and c.num_repudiation_reason_id=g.num_repudiation_reason_id \\\n",
    "              and g.num_update_no = (Select Max(b.num_update_no )From public.claim_gc_gc_clm_gen_info b \\\n",
    "              Where b.num_claim_no = g.num_claim_no and coalesce(g.num_repudiation_reason_id ,0) <> 0)) f2 \\\n",
    "             on f1.num_claim_no=f2.claim_no1) f3 left join \\\n",
    "             (select distinct g.num_claim_no as claim_no2,c.txt_repudiation_reason_desc as rpdreason,c.txt_info1 as rpd \\\n",
    "             from public.claim_gc_gc_clm_gen_info g,public.claim_gc_gc_clmmst_repudiation_reason c \\\n",
    "             where g.num_repudiation_reason_id in \\\n",
    "             (select num_repudiation_reason_id from public.claim_gc_gc_clmmst_repudiation_reason r \\\n",
    "             where r.txt_info1 in ('REPUDIATION')) and c.num_repudiation_reason_id =g.num_repudiation_reason_id \\\n",
    "             and g.num_update_no = (Select Max(b.num_update_no )From public.claim_gc_gc_clm_gen_info b \\\n",
    "             Where b.num_claim_no = g.num_claim_no and coalesce(g.num_repudiation_reason_id ,0) <> 0)) f4 \\\n",
    "             on f3.num_claim_no=f4.claim_no2) a \\\n",
    "             left join \\\n",
    "             (select distinct num_reference_no as ref_no,producer_cd, pol_incept_date, covernotenumber ,cover_note_date ,\\\n",
    "             crs_rcpt_date from registers.premium_register) pr on \\\n",
    "             a.num_reference_no=pr.ref_no)t1 where extract(year from t1.dat_notification_date)>=2018 and cast(t1.dat_update_date as date)=(CURRENT_DATE-INTERVAL '1 day'))\")\n",
    "\n",
    "print(\"Inserted records for modified claim numbers  : \"+ s)"
   ]
  },
  {
   "cell_type": "code",
   "execution_count": 5,
   "metadata": {},
   "outputs": [
    {
     "name": "stdout",
     "output_type": "stream",
     "text": [
      "Inserted records for modified claim numbers  : 3074026"
     ]
    }
   ],
   "source": [
    "s = db.query(\"Create table analytics.claims_hist_29_jun As \\\n",
    "             (select distinct t1.txt_master_claim_no ,t1.num_claim_no ,t1.dat_loss_date ,t1.dat_notification_date ,\\\n",
    "             t1.dat_update_date ,t1.txt_policy_no_char ,t1.featureno, t1.productname, t1.txt_cover_description, t1.cwpreason, \\\n",
    "             t1.rpdreason,t1.producer_cd,t1.crs_rcpt_date,t1.pol_incept_date,t1.covernotenumber ,t1.cover_note_date from \\\n",
    "             ((((select distinct gc.txt_master_claim_no,gc.num_claim_no,gc.dat_loss_date,gc.txt_policy_no_char, \\\n",
    "             gc.dat_policy_inception_date, gc.dat_notification_date,gc.dat_update_date,em.featureno, \\\n",
    "             pm.productname, rgc.txt_cover_description,gc.num_reference_no from public.claim_gc_gc_clm_gen_info gc, \\\n",
    "             (select distinct num_claim_no, featureno,injuryname from public.claim_dh_gc_clm_gen_info_extra_mot) em, \\\n",
    "             public.reference_gc_covercodemaster rgc, \\\n",
    "             (select productname,productcode from public.underwriting_gc_uw_product_master \\\n",
    "             where productcode in (3121,3122,3124,3125,3126,3183,3184,3186,3188,3189,3191)) pm \\\n",
    "             where gc.num_claim_no = em.num_claim_no and gc.num_nature_of_loss = rgc.num_cover_code and \\\n",
    "             gc.num_update_no = (select max(a.num_update_no) from public.claim_gc_gc_clm_gen_info a \\\n",
    "             where a.num_claim_no=gc.num_claim_no) and gc.num_product_code = pm.productcode) f1 \\\n",
    "             left join (select distinct g.num_claim_no as claim_no1, c.txt_repudiation_reason_desc as cwpReason, \\\n",
    "             c.txt_info1 as cwp from public.claim_gc_gc_clm_gen_info g,public.claim_gc_gc_clmmst_repudiation_reason c \\\n",
    "             where g.num_repudiation_reason_id in \\\n",
    "             (select num_repudiation_reason_id from public.claim_gc_gc_clmmst_repudiation_reason r \\\n",
    "              where r.txt_info1 in ('CWP')) and c.num_repudiation_reason_id=g.num_repudiation_reason_id \\\n",
    "              and g.num_update_no = (Select Max(b.num_update_no )From public.claim_gc_gc_clm_gen_info b \\\n",
    "              Where b.num_claim_no = g.num_claim_no and coalesce(g.num_repudiation_reason_id ,0) <> 0)) f2 \\\n",
    "             on f1.num_claim_no=f2.claim_no1) f3 left join \\\n",
    "             (select distinct g.num_claim_no as claim_no2,c.txt_repudiation_reason_desc as rpdreason,c.txt_info1 as rpd \\\n",
    "             from public.claim_gc_gc_clm_gen_info g,public.claim_gc_gc_clmmst_repudiation_reason c \\\n",
    "             where g.num_repudiation_reason_id in \\\n",
    "             (select num_repudiation_reason_id from public.claim_gc_gc_clmmst_repudiation_reason r \\\n",
    "             where r.txt_info1 in ('REPUDIATION')) and c.num_repudiation_reason_id =g.num_repudiation_reason_id \\\n",
    "             and g.num_update_no = (Select Max(b.num_update_no )From public.claim_gc_gc_clm_gen_info b \\\n",
    "             Where b.num_claim_no = g.num_claim_no and coalesce(g.num_repudiation_reason_id ,0) <> 0)) f4 \\\n",
    "             on f3.num_claim_no=f4.claim_no2) a \\\n",
    "             left join \\\n",
    "             (select distinct num_reference_no as ref_no,producer_cd, pol_incept_date, covernotenumber ,cover_note_date ,\\\n",
    "             crs_rcpt_date from registers.premium_register) pr on \\\n",
    "             a.num_reference_no=pr.ref_no)t1 where extract(year from t1.dat_notification_date)>=2018 \\\n",
    "             and cast(t1.dat_update_date as date)<=(CURRENT_DATE-INTERVAL '1 day'))\")\n",
    "\n",
    "print(\"Inserted records for modified claim numbers  : \"+ s)"
   ]
  },
  {
   "cell_type": "code",
   "execution_count": 6,
   "metadata": {},
   "outputs": [],
   "source": [
    "spark.stop()"
   ]
  },
  {
   "cell_type": "code",
   "execution_count": null,
   "metadata": {},
   "outputs": [],
   "source": []
  }
 ],
 "metadata": {
  "kernelspec": {
   "display_name": "PySpark",
   "language": "",
   "name": "pysparkkernel"
  },
  "language_info": {
   "codemirror_mode": {
    "name": "python",
    "version": 3
   },
   "mimetype": "text/x-python",
   "name": "pyspark",
   "pygments_lexer": "python3"
  }
 },
 "nbformat": 4,
 "nbformat_minor": 2
}
