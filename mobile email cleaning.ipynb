{
 "cells": [
  {
   "cell_type": "code",
   "execution_count": 5,
   "metadata": {},
   "outputs": [],
   "source": [
    "import pandas as pd"
   ]
  },
  {
   "cell_type": "code",
   "execution_count": 6,
   "metadata": {},
   "outputs": [],
   "source": [
    "df_1=pd.read_csv(\"Step4_experian_9491.csv\",dtype=str)"
   ]
  },
  {
   "cell_type": "code",
   "execution_count": 9,
   "metadata": {},
   "outputs": [],
   "source": [
    "df_agent=pd.read_csv(\"Agent data.csv\",encoding='latin1')\n",
    "df_garage=pd.read_csv(\"GarageMaster.csv\",encoding='latin1')\n",
    "df_hospital=pd.read_csv(\"Hospital_Master.csv\",encoding='latin1')\n",
    "df_agent_mail=pd.read_csv(\"Agent_Email_Master.csv\",encoding='latin1')"
   ]
  },
  {
   "cell_type": "code",
   "execution_count": 10,
   "metadata": {},
   "outputs": [],
   "source": [
    "df_copy= df_1.copy()"
   ]
  },
  {
   "cell_type": "code",
   "execution_count": 11,
   "metadata": {},
   "outputs": [],
   "source": [
    "def email_cleaning(x):\n",
    "    bad_char = ['(',')','{','}','~','`','#','$','^','*','\"','&','<','>','/','?','~','+','=','!','?',',',';','\\\\',':']\n",
    "    if x != None:\n",
    "        x = str(x)\n",
    "        \n",
    "        x = \"\".join(x.split())\n",
    "        # x = x.split(\".COM/\")[0]\n",
    "        # x = x.split(\".COM\\\\\")[0]\n",
    "        # x = x.split('/')[0]\n",
    "        x = x.split(\"%\")[0]\n",
    "        x = x.replace(\"'\",\"\")\n",
    "        x = ''.join(i for i in x if not i in bad_char)\n",
    "#         if x in ['NULL@NULL.COM','DUMMY@JKBMAIL.COM','SKIPPED@SKIP.COM','NOMAILID@NOMAIL.COM','BFL@XYZ.COM','NANA@XYZ.COM','nan','DUMMY@DUMMY.COM','NULL@MAIL.COM','TEMP@TEMP.COM','XYZ@XYZ.COM','ABC@ABC.COM','ABC@XYZ.COM']:\n",
    "#             x=x.replace(x,\"\")\n",
    "        if x in df_agent_mail['Agent_Email']:\n",
    "            x=x.replace(x,\"\")\n",
    "        elif x in df_hospital['TXT_EMAIL_ADDRESS']:\n",
    "            x=x.replace(x,\"\")\n",
    "        elif x in df_garage['TXT_EMAIL_ADDRESS']:\n",
    "            x=x.replace(x,\"\")\n",
    "        if x in [\"NULL\",\"nan\"]:\n",
    "            x=x.replace(x,\"\")\n",
    "        t=0\n",
    "        if \"@\" not in x:\n",
    "                t=1\n",
    "        if t==1:\n",
    "            x=x.replace(x,\"\")\n",
    "        elif x[-1:] in [\"@\"]:\n",
    "            x=x.replace(x,\"\")\n",
    "        elif t==0 and x not in [\"\"]:\n",
    "            x1,x2 = x.split(\"@\",1)\n",
    "#         if x[-1:] in [\"@\"]:\n",
    "#             x=x.replace(x,\"\")\n",
    "#         x1 = x.split(\"@\")[0]\n",
    "#         x2 = x.split(\".COM\")[0]\n",
    "#         x1,x2 = x.split(\"@\")\n",
    "        \n",
    "            if x1 in ['NULL','DUMMY','ABC','XYZ','SKIPPED','SKIP','NOMAILID','NOMAIL','JKBMAIL','BFL','NANA','nan','MAIL',\n",
    "                      'TEMP','TEST','TEST.TEST','DUMMY.TEST','DUMMYTEST','NILL','JFML','JMFL','MAIL','EMAIL','NONE','HELLO',\n",
    "                      'ZZZZZ','ZZZ','00','JUNK','JUNK.JUNK','NA','NO','NOEMAIL','tataaig','TATAAIG','tata-aig','TATA-AIG',\n",
    "                      'www','WWW','GMALL','GMIL','GMALI','GIMAL','GAMIL','GMEIL','GMAI']:\n",
    "                x=x.replace(x,\"\")\n",
    "            elif x2.split(\".COM\")[0] in ['NULL','DUMMY','ABC','XYZ','SKIPPED','SKIP','NOMAILID','NOMAIL','JKBMAIL','BFL',\n",
    "                                         'NANA','nan','MAIL','TEMP','TEST','TEST.TEST','DUMMY.TEST','DUMMYTEST','NILL',\n",
    "                                         'JFML','JMFL','MAIL','EMAIL','NONE','HELLO','ZZZZZ','ZZZ','00','JUNK','JUNK.JUNK',\n",
    "                                         'NA','NO','NOEMAIL','tataaig','TATAAIG','tata-aig','TATA-AIG',\n",
    "                                         'www','WWW','GMALL','GMIL','GMALI','GIMAL','GAMIL','GMEIL','GMAI','GNAUL','GIMELL',\n",
    "                                         'GIMAIL','GEMALE','GAMELEL']:\n",
    "                x=x.replace(x,\"\")\n",
    "            elif \"@\" in x2:\n",
    "                x=x.replace(x,\"\")\n",
    "            elif \"@\" in x1:\n",
    "                x=x.replace(x,\"\")\n",
    "            elif x1==x2.split(\".COM\")[0]:\n",
    "                x=x.replace(x,\"\")\n",
    "        return x"
   ]
  },
  {
   "cell_type": "code",
   "execution_count": 12,
   "metadata": {},
   "outputs": [],
   "source": [
    "def mobile_cleaning(x):\n",
    "#     bad_char = ['(',')','{','}','~','`','#','$','^','*','\"','&','<','>','/','?','+','=','!','?',',',';','\\\\',':','-','%','A',\n",
    "#                 'B','C','D','F','G','H','I','J','K','L','M','N','O','P','Q','R','S','T','U','V','W','X','Y','Z','\\''\n",
    "#                ]\n",
    "    if x != None:\n",
    "        x = str(x)\n",
    "#         x = \"\".join(x.split())\n",
    "#         #x = x.split(\".COM/\")[0]\n",
    "        #x = x.split(\".COM\\\\\")[0]\n",
    "#         x = x.split('/')[0]\n",
    "#         x = x.split(\"%\")[0]\n",
    "#         x = x.replace(\"'\",\"\")\n",
    "# #         x = ''.join(i for i in x if not i in bad_char)\n",
    "#         if len(x)!=10:\n",
    "#             x=x.replace(x,\"\")\n",
    "        x=\"\".join(i for i in x if i in \"0123456789\")\n",
    "#         for i in x:\n",
    "#             if i in bad_char:\n",
    "#                 x=x.replace(x,\"\")\n",
    "        if len(x)<10:\n",
    "            x=x.replace(x,\"\")\n",
    "        else:\n",
    "            x=x[-10:]\n",
    "            if x[0:1] in \"012345\":\n",
    "                x=x.replace(x,\"\")\n",
    "            elif x[0:6]=='999999' or x[0:6]=='888888' or x[0:6]=='777777' or x[0:6]=='666666' or x=='9898989898' or x=='9000000000':\n",
    "                x=x.replace(x,\"\")\n",
    "        if x in ['7359417960','9275043390','8968492620','9466583080','9958038928','9873292204']:\n",
    "            x=x.replace(x,\"\")\n",
    "        if x in df_garage['TXT_MOBILE_NO']:\n",
    "            x=x.replace(x,\"\")\n",
    "        elif x in df_hospital['TXT_MOBILE_NO']:\n",
    "            x=x.replace(x,\"\")\n",
    "        elif x in df_agent['Mobile numbers']:\n",
    "            x=x.replace(x,\"\")\n",
    "        if x in [\"NULL\",\"nan\"]:\n",
    "            x=x.replace(x,\"\")\n",
    "        return x"
   ]
  },
  {
   "cell_type": "code",
   "execution_count": 13,
   "metadata": {},
   "outputs": [],
   "source": [
    "df_1['Email 1'] = df_1['Email 1'].apply(lambda x : email_cleaning(x))\n",
    "df_1['Email 2'] = df_1['Email 2'].apply(lambda x : email_cleaning(x))\n",
    "df_1['Email 3'] = df_1['Email 3'].apply(lambda x : email_cleaning(x))"
   ]
  },
  {
   "cell_type": "code",
   "execution_count": 14,
   "metadata": {},
   "outputs": [],
   "source": [
    "df_1['Phone 1'] = df_1['Phone 1'].apply(lambda x : mobile_cleaning(x))\n",
    "df_1['Phone 2'] = df_1['Phone 2'].apply(lambda x : mobile_cleaning(x))\n",
    "df_1['Phone 3'] = df_1['Phone 3'].apply(lambda x : mobile_cleaning(x))"
   ]
  },
  {
   "cell_type": "code",
   "execution_count": 15,
   "metadata": {},
   "outputs": [],
   "source": [
    "df_1.to_csv(\"Experian_9491_cleaner.csv\",index=False)"
   ]
  },
  {
   "cell_type": "code",
   "execution_count": null,
   "metadata": {},
   "outputs": [],
   "source": []
  },
  {
   "cell_type": "code",
   "execution_count": null,
   "metadata": {},
   "outputs": [],
   "source": []
  }
 ],
 "metadata": {
  "kernelspec": {
   "display_name": "Python 3",
   "language": "python",
   "name": "python3"
  },
  "language_info": {
   "codemirror_mode": {
    "name": "ipython",
    "version": 3
   },
   "file_extension": ".py",
   "mimetype": "text/x-python",
   "name": "python",
   "nbconvert_exporter": "python",
   "pygments_lexer": "ipython3",
   "version": "3.7.6"
  }
 },
 "nbformat": 4,
 "nbformat_minor": 5
}
