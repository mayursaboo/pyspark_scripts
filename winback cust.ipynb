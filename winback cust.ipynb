{
 "cells": [
  {
   "cell_type": "code",
   "execution_count": 14,
   "metadata": {},
   "outputs": [
    {
     "data": {
      "application/vnd.jupyter.widget-view+json": {
       "model_id": "",
       "version_major": 2,
       "version_minor": 0
      },
      "text/plain": [
       "FloatProgress(value=0.0, bar_style='info', description='Progress:', layout=Layout(height='25px', width='50%'),…"
      ]
     },
     "metadata": {},
     "output_type": "display_data"
    },
    {
     "name": "stdout",
     "output_type": "stream",
     "text": [
      "JOB NAME = Ajeet:CustomerCOE-Winback Customers\n",
      "No_of_cpu=4\n",
      "Max_cores=8\n",
      "Executor_mem=26g"
     ]
    }
   ],
   "source": [
    "import sys\n",
    "\n",
    "# runtype = \"daily\"\n",
    "# report_date = \"2021-02-28\" #automated\n",
    "\n",
    "no_of_cpu = 4\n",
    "max_cores = 8\n",
    "executor_mem = '26g'\n",
    "\n",
    "\n",
    "Job_Name = 'Ajeet:CustomerCOE-Winback Customers'\n",
    "\n",
    "\n",
    "# print \"JOB NAME = \"+str(Job_Name)\n",
    "# print \"No_of_cpu=\"+str(no_of_cpu)\n",
    "# print \"Max_cores=\"+str(max_cores)\n",
    "# print \"Executor_mem=\"+str(executor_mem)\n",
    "# print \"Runtype=\"+str(runtype)\n",
    "# print \"Report_date=\"+str(report_date)\n",
    "\n",
    "\n",
    "print (\"JOB NAME = \"+str(Job_Name))\n",
    "print (\"No_of_cpu=\"+str(no_of_cpu))\n",
    "print (\"Max_cores=\"+str(max_cores))\n",
    "print (\"Executor_mem=\"+str(executor_mem))\n",
    "# print (\"Runtype=\"+str(runtype))\n",
    "# print (\"Report_date=\"+str(report_date))\n",
    "\n",
    "\n",
    "from pyspark.mllib.stat import Statistics\n",
    "from pyspark.sql.functions import asc,lit\n",
    "#warnings.filterwarnings('error')\n",
    "import pyspark\n",
    "from datetime import datetime,timedelta\n",
    "from pyspark.sql import SQLContext\n",
    "from pyspark import SparkContext, SparkConf\n",
    "from pyspark.sql import functions as F\n",
    "\n",
    "conf = pyspark.SparkConf()\n",
    "#import numpy\n",
    "import calendar\n",
    "#import pandas as pd\n",
    "#import simplejson as json\n",
    "#import pandas as pd\n",
    "import numpy as np\n",
    "import datetime\n",
    "from pyspark.sql.functions import *\n",
    "from pyspark.sql.types import DateType\n",
    "from pyspark.sql.functions import lit\n",
    "import simplejson as json\n",
    "import json, pprint, requests\n",
    "#es_nodes = '10.35.12.5'\n",
    "#es_nodes = '10.35.12.6'\n",
    "# es_nodes = '10.35.12.194'#,10.35.12.6,10.35.12.5\n",
    "# es_nodes_temp='10.35.12.194'\n",
    "# es_port = '5432'\n",
    "# es_user = 'gpanalytics'\n",
    "# es_pwd = ''\n",
    "mesos_ip = 'mesos://10.33.195.18:5050'#'mesos://10.35.12.5:5050'\n",
    "spark.stop() #############NEED TO COMMENT THIS SPARK.STOP WHEN RUNNING THROUGH SHELL###############################\n",
    "conf.setMaster(mesos_ip)\n",
    "\n",
    "conf.set('spark.executor.cores',no_of_cpu) ### change 1\n",
    "#conf.set('spark.memory.fraction','.2')\n",
    "conf.set('spark.executor.memory',executor_mem) \n",
    "conf.set('spark.es.scroll.size','10000')\n",
    "conf.set('spark.network.timeout','600s')\n",
    "conf.set('spark.sql.crossJoin.enabled', 'true')\n",
    "conf.set('spark.sql.join.preferSortMergeJoin','true')\n",
    "\n",
    "conf.set('spark.ui.port','4052')\n",
    "\n",
    "conf.set('spark.executor.heartbeatInterval','60s')\n",
    "conf.set(\"spark.driver.cores\",\"4\")\n",
    "conf.set(\"spark.driver.extraJavaOptions\",\"-Xmx4g -Xms4g\")\n",
    "\n",
    "#conf.set(\"spark.shuffle.blockTransferService\", \"nio\"); \n",
    "conf.set(\"spark.files.overwrite\",\"true\");\n",
    "conf.set(\"spark.kryoserializer.buffer\", \"70\"); \n",
    "conf.set(\"spark.driver.extraJavaOptions\", \"-XX:+UseG1GC\");\n",
    "conf.set(\"spark.executor.extraJavaOptions\", \"-XX:+UseG1GC\");\n",
    "conf.set(\"spark.serializer\", \"org.apache.spark.serializer.KryoSerializer\"); \n",
    "#conf.set(\"spark.broadcast.compress\", \"true\"); \n",
    "conf.set(\"spark.shuffle.compress\", \"true\"); \n",
    "conf.set(\"spark.shuffle.spill.compress\", \"true\");\n",
    "conf.set(\"spark.app.name\", Job_Name)\n",
    "#conf.set(\"spark.io.compression.codec\",\"org.apache.spark.io.LZ4CompressionCodec\");\n",
    "#conf.set(\"spark.sql.inMemoryColumnarStorage.compressed\", \"true\"); \n",
    "from pyspark.sql.functions import broadcast\n",
    "\n",
    "conf.set('spark.driver.memory','20g') ### change 2\n",
    "conf.set('spark.cores.max',max_cores) ### change 3\n",
    "conf.set('spark.sql.shuffle.partitions','400')\n",
    "#conf.set('spark.sql.crossJoin.enabled', 'true')\n",
    "# conf.set('es.nodes',es_nodes)\n",
    "# conf.set('es.port',es_port)\n",
    "# conf.set('es.nodes.wan.only','true')\n",
    "conf.set(\"spark.sql.autoBroadcastJoinThreshold\",-1)\n",
    "\n",
    "#conf.set('spark.es.net.http.auth.user','Spark')\n",
    "#conf.set('spark.es.net.http.auth.pass','Jarkpet1Sap3')\n",
    "conf.set('spark.num.executors','4')\n",
    "\n",
    "# conf.set('spark.es.net.http.auth.user', es_user)\n",
    "# conf.set('spark.es.net.http.auth.pass', es_pwd)\n",
    "\n",
    "conf.set('spark.es.mapping.date.rich','false')\n",
    "spark = pyspark.SparkContext(conf=conf)\n",
    "sqlContext = SQLContext(spark)\n",
    "\n",
    "# Load Data into PySpark DataFrames\n",
    "# Prodcom Data Frame\n",
    "import json, pprint, requests\n",
    "import pyspark.sql.functions as sf\n",
    "from pyspark.sql.types import *"
   ]
  },
  {
   "cell_type": "code",
   "execution_count": 28,
   "metadata": {},
   "outputs": [
    {
     "data": {
      "application/vnd.jupyter.widget-view+json": {
       "model_id": "",
       "version_major": 2,
       "version_minor": 0
      },
      "text/plain": [
       "FloatProgress(value=0.0, bar_style='info', description='Progress:', layout=Layout(height='25px', width='50%'),…"
      ]
     },
     "metadata": {},
     "output_type": "display_data"
    }
   ],
   "source": [
    "url_uat = \"jdbc:postgresql://10.33.195.103:5432/gpadmin\"\n",
    "url_prod = \"jdbc:postgresql://10.35.12.194:5432/gpadmin\"\n",
    "user_prod=\"gpspark\"\n",
    "pwd_prod=\"spark@456\"\n",
    "dbschema_name = \"public\"\n",
    "dbschema_name_2=\"registers\""
   ]
  },
  {
   "cell_type": "code",
   "execution_count": 29,
   "metadata": {},
   "outputs": [
    {
     "data": {
      "application/vnd.jupyter.widget-view+json": {
       "model_id": "",
       "version_major": 2,
       "version_minor": 0
      },
      "text/plain": [
       "FloatProgress(value=0.0, bar_style='info', description='Progress:', layout=Layout(height='25px', width='50%'),…"
      ]
     },
     "metadata": {},
     "output_type": "display_data"
    }
   ],
   "source": [
    "gscPythonOptions = {\n",
    "    \"url\": \"jdbc:postgresql://10.35.12.194:5432/gpadmin\",\n",
    "    \"user\": \"gpspark\",\n",
    "    \"password\": \"spark@456\",\n",
    "    \"dbschema\": \"customermart\",\n",
    "    \"dbtable\": \"temp_inactive_cust_data_base_ajeet\",\n",
    "    \"partitionColumn\":\"dc_unified_id\",\n",
    "    \"server.port\":\"1150-1170\",\n",
    "    \"partitions\":6} \n",
    "\n",
    "inactive_cust_df=sqlContext.read.format(\"greenplum\").options(**gscPythonOptions).load()\n",
    "\n",
    "##inactive_cust_df.show(10)"
   ]
  },
  {
   "cell_type": "code",
   "execution_count": 30,
   "metadata": {},
   "outputs": [
    {
     "data": {
      "application/vnd.jupyter.widget-view+json": {
       "model_id": "",
       "version_major": 2,
       "version_minor": 0
      },
      "text/plain": [
       "FloatProgress(value=0.0, bar_style='info', description='Progress:', layout=Layout(height='25px', width='50%'),…"
      ]
     },
     "metadata": {},
     "output_type": "display_data"
    }
   ],
   "source": [
    "inactive_cust_df=inactive_cust_df.dropDuplicates()"
   ]
  },
  {
   "cell_type": "code",
   "execution_count": 31,
   "metadata": {},
   "outputs": [
    {
     "data": {
      "application/vnd.jupyter.widget-view+json": {
       "model_id": "",
       "version_major": 2,
       "version_minor": 0
      },
      "text/plain": [
       "FloatProgress(value=0.0, bar_style='info', description='Progress:', layout=Layout(height='25px', width='50%'),…"
      ]
     },
     "metadata": {},
     "output_type": "display_data"
    }
   ],
   "source": [
    "##req = \"select a.*,claim_gross from customermart.temp_inactive_cust_data_base_ajeet a \\\n",
    "##left join (select num_reference_no,claim_gross from datamarts.claim_report_gc_p2)b on a.proposal_no=b.num_reference_no\""
   ]
  },
  {
   "cell_type": "code",
   "execution_count": 32,
   "metadata": {},
   "outputs": [
    {
     "data": {
      "application/vnd.jupyter.widget-view+json": {
       "model_id": "",
       "version_major": 2,
       "version_minor": 0
      },
      "text/plain": [
       "FloatProgress(value=0.0, bar_style='info', description='Progress:', layout=Layout(height='25px', width='50%'),…"
      ]
     },
     "metadata": {},
     "output_type": "display_data"
    }
   ],
   "source": [
    "gscPythonOptions = {\n",
    "    \"url\": \"jdbc:postgresql://10.35.12.194:5432/gpadmin\",\n",
    "    \"user\": \"gpspark\",\n",
    "    \"password\": \"spark@456\",\n",
    "    \"dbschema\": \"datamarts\",\n",
    "    \"dbtable\": \"claim_report_gc_p2\",\n",
    "    \"partitionColumn\":\"num_reference_no\",\n",
    "    \"server.port\":\"1150-1170\",\n",
    "    \"partitions\":6} \n",
    "\n",
    "claim_mst_df=sqlContext.read.format(\"greenplum\").options(**gscPythonOptions).load().select(\"num_reference_no\",\"claim_gross\")\n",
    "\n",
    "##claim_mst_df.show(10)"
   ]
  },
  {
   "cell_type": "code",
   "execution_count": 33,
   "metadata": {},
   "outputs": [
    {
     "data": {
      "application/vnd.jupyter.widget-view+json": {
       "model_id": "",
       "version_major": 2,
       "version_minor": 0
      },
      "text/plain": [
       "FloatProgress(value=0.0, bar_style='info', description='Progress:', layout=Layout(height='25px', width='50%'),…"
      ]
     },
     "metadata": {},
     "output_type": "display_data"
    }
   ],
   "source": [
    "condition=[(inactive_cust_df.proposal_no == claim_mst_df.num_reference_no)]"
   ]
  },
  {
   "cell_type": "code",
   "execution_count": 34,
   "metadata": {},
   "outputs": [
    {
     "data": {
      "application/vnd.jupyter.widget-view+json": {
       "model_id": "",
       "version_major": 2,
       "version_minor": 0
      },
      "text/plain": [
       "FloatProgress(value=0.0, bar_style='info', description='Progress:', layout=Layout(height='25px', width='50%'),…"
      ]
     },
     "metadata": {},
     "output_type": "display_data"
    }
   ],
   "source": [
    "temp_df=inactive_cust_df.join(claim_mst_df,condition,'left').drop('num_reference_no')\n",
    "\n",
    "##temp_df.printSchema()"
   ]
  },
  {
   "cell_type": "code",
   "execution_count": 35,
   "metadata": {},
   "outputs": [
    {
     "data": {
      "application/vnd.jupyter.widget-view+json": {
       "model_id": "",
       "version_major": 2,
       "version_minor": 0
      },
      "text/plain": [
       "FloatProgress(value=0.0, bar_style='info', description='Progress:', layout=Layout(height='25px', width='50%'),…"
      ]
     },
     "metadata": {},
     "output_type": "display_data"
    }
   ],
   "source": [
    "temp_df=temp_df.withColumn(\"MonYR\",sf.date_format(to_date(col(\"pol_exp_date\")),\"MMM yyyy\"))"
   ]
  },
  {
   "cell_type": "code",
   "execution_count": 36,
   "metadata": {},
   "outputs": [
    {
     "data": {
      "application/vnd.jupyter.widget-view+json": {
       "model_id": "",
       "version_major": 2,
       "version_minor": 0
      },
      "text/plain": [
       "FloatProgress(value=0.0, bar_style='info', description='Progress:', layout=Layout(height='25px', width='50%'),…"
      ]
     },
     "metadata": {},
     "output_type": "display_data"
    },
    {
     "name": "stdout",
     "output_type": "stream",
     "text": [
      "+--------+\n",
      "|   MonYR|\n",
      "+--------+\n",
      "|Jan 2022|\n",
      "|Jan 2022|\n",
      "|Jan 2022|\n",
      "|Jan 2022|\n",
      "|Jan 2022|\n",
      "|Jan 2022|\n",
      "|Jan 2022|\n",
      "|Jan 2022|\n",
      "|Jan 2022|\n",
      "|Jan 2022|\n",
      "+--------+\n",
      "only showing top 10 rows"
     ]
    }
   ],
   "source": [
    "temp_df.select(\"MonYR\").show(10)"
   ]
  },
  {
   "cell_type": "code",
   "execution_count": null,
   "metadata": {},
   "outputs": [],
   "source": [
    "##temp_df.show(20)"
   ]
  },
  {
   "cell_type": "code",
   "execution_count": null,
   "metadata": {},
   "outputs": [],
   "source": [
    "channel_wise_cust_cnt=temp_df.groupBy([\"channel\",\"sub_channel_new\"]).agg(sf.countDistinct('dc_unified_id').alias('cust_cnt'),\\\n",
    "                                                                        sf.sum(\"total_premium\").alias('total_premium_recvd'))"
   ]
  },
  {
   "cell_type": "markdown",
   "metadata": {},
   "source": [
    "output_index = \"channel_wise_iactive_cust_cnt_winback_ajeet\"# table name changed from base_gen_prop_uw_prop_new #3:10\n",
    "schema = \"customermart\"\n",
    "\n",
    "channel_wise_cust_cnt.write.option(\"truncate\", \"true\").format(\"greenplum\")\\\n",
    ".option(\"dbtable\",output_index).option('dbschema',schema)\\\n",
    ".option(\"server.port\",\"1150-1170\").option(\"url\",\"jdbc:postgresql://10.35.12.194:5432/gpadmin\")\\\n",
    ".option(\"user\", \"gpspark\").option(\"password\",\"spark@456\").mode('overwrite').save()"
   ]
  },
  {
   "cell_type": "code",
   "execution_count": null,
   "metadata": {},
   "outputs": [],
   "source": [
    "product_wise_cust_cnt=temp_df.groupBy([\"product_name\",\"product_group\"]).agg(sf.countDistinct('dc_unified_id').alias('cust_cnt'),\\\n",
    "                                                                        sf.sum(\"total_premium\").alias('total_premium_recvd'))"
   ]
  },
  {
   "cell_type": "markdown",
   "metadata": {},
   "source": [
    "output_index = \"product_wise_iactive_cust_cnt_winback_ajeet\"# table name changed from base_gen_prop_uw_prop_new #3:10\n",
    "schema = \"customermart\"\n",
    "\n",
    "product_wise_cust_cnt.write.option(\"truncate\", \"true\").format(\"greenplum\")\\\n",
    ".option(\"dbtable\",output_index).option('dbschema',schema)\\\n",
    ".option(\"server.port\",\"1150-1170\").option(\"url\",\"jdbc:postgresql://10.35.12.194:5432/gpadmin\")\\\n",
    ".option(\"user\", \"gpspark\").option(\"password\",\"spark@456\").mode('overwrite').save()"
   ]
  },
  {
   "cell_type": "code",
   "execution_count": null,
   "metadata": {},
   "outputs": [],
   "source": [
    "channel_product_wise_cust_cnt=temp_df.groupBy([\"channel\",\"product_name\"]).agg(sf.countDistinct('dc_unified_id').alias('cust_cnt'),\\\n",
    "                                                                        sf.sum(\"total_premium\").alias('total_premium_recvd'))"
   ]
  },
  {
   "cell_type": "markdown",
   "metadata": {},
   "source": [
    "output_index = \"channel_product_wise_iactive_cust_cnt_winback_ajeet\"# table name changed from base_gen_prop_uw_prop_new #3:10\n",
    "schema = \"customermart\"\n",
    "\n",
    "channel_product_wise_cust_cnt.write.option(\"truncate\", \"true\").format(\"greenplum\")\\\n",
    ".option(\"dbtable\",output_index).option('dbschema',schema)\\\n",
    ".option(\"server.port\",\"1150-1170\").option(\"url\",\"jdbc:postgresql://10.35.12.194:5432/gpadmin\")\\\n",
    ".option(\"user\", \"gpspark\").option(\"password\",\"spark@456\").mode('overwrite').save()"
   ]
  },
  {
   "cell_type": "code",
   "execution_count": 37,
   "metadata": {},
   "outputs": [
    {
     "data": {
      "application/vnd.jupyter.widget-view+json": {
       "model_id": "",
       "version_major": 2,
       "version_minor": 0
      },
      "text/plain": [
       "FloatProgress(value=0.0, bar_style='info', description='Progress:', layout=Layout(height='25px', width='50%'),…"
      ]
     },
     "metadata": {},
     "output_type": "display_data"
    }
   ],
   "source": [
    "Month_channel_product_wise_cust_cnt=temp_df.groupBy([\"MonYR\",\"channel\",\"product_name\"]).agg(sf.countDistinct('dc_unified_id').alias('cust_cnt'),\\\n",
    "                                                                        sf.sum(\"total_premium\").alias('total_premium_recvd'),\\\n",
    "                                                                        sf.min(\"total_premium\").alias('min_premium_recvd'),\\\n",
    "                                                                        sf.max(\"total_premium\").alias('max_premium_recvd'))"
   ]
  },
  {
   "cell_type": "code",
   "execution_count": 40,
   "metadata": {},
   "outputs": [
    {
     "data": {
      "application/vnd.jupyter.widget-view+json": {
       "model_id": "",
       "version_major": 2,
       "version_minor": 0
      },
      "text/plain": [
       "FloatProgress(value=0.0, bar_style='info', description='Progress:', layout=Layout(height='25px', width='50%'),…"
      ]
     },
     "metadata": {},
     "output_type": "display_data"
    }
   ],
   "source": [
    "output_index = \"month_channel_product_wise_iactive_cust_cnt_winback_ajeet\"# table name changed from base_gen_prop_uw_prop_new #3:10\n",
    "schema = \"customermart\"\n",
    "\n",
    "Month_channel_product_wise_cust_cnt.write.option(\"truncate\", \"true\").format(\"greenplum\")\\\n",
    ".option(\"dbtable\",output_index).option('dbschema',schema)\\\n",
    ".option(\"server.port\",\"1150-1170\").option(\"url\",\"jdbc:postgresql://10.35.12.194:5432/gpadmin\")\\\n",
    ".option(\"user\", \"gpspark\").option(\"password\",\"spark@456\").mode('overwrite').save()"
   ]
  },
  {
   "cell_type": "code",
   "execution_count": null,
   "metadata": {},
   "outputs": [],
   "source": []
  },
  {
   "cell_type": "code",
   "execution_count": 13,
   "metadata": {},
   "outputs": [
    {
     "data": {
      "application/vnd.jupyter.widget-view+json": {
       "model_id": "",
       "version_major": 2,
       "version_minor": 0
      },
      "text/plain": [
       "FloatProgress(value=0.0, bar_style='info', description='Progress:', layout=Layout(height='25px', width='50%'),…"
      ]
     },
     "metadata": {},
     "output_type": "display_data"
    }
   ],
   "source": [
    "spark.stop()"
   ]
  },
  {
   "cell_type": "code",
   "execution_count": null,
   "metadata": {},
   "outputs": [],
   "source": []
  }
 ],
 "metadata": {
  "kernelspec": {
   "display_name": "PySpark",
   "language": "",
   "name": "pysparkkernel"
  },
  "language_info": {
   "codemirror_mode": {
    "name": "python",
    "version": 3
   },
   "mimetype": "text/x-python",
   "name": "pyspark",
   "pygments_lexer": "python3"
  }
 },
 "nbformat": 4,
 "nbformat_minor": 4
}
